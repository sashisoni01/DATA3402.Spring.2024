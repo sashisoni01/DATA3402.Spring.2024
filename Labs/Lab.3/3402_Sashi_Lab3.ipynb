{
 "cells": [
  {
   "cell_type": "markdown",
   "metadata": {},
   "source": [
    "### Uniform Distribution\n",
    "Lets start with generating some fake random data. You can get a random number between 0 and 1 using the python random module as follow:"
   ]
  },
  {
   "cell_type": "code",
   "execution_count": 1,
   "metadata": {},
   "outputs": [
    {
     "name": "stdout",
     "output_type": "stream",
     "text": [
      "The Value of x is 0.9145749085383018\n"
     ]
    }
   ],
   "source": [
    "import random\n",
    "x=random.random()\n",
    "print(\"The Value of x is\", x)"
   ]
  },
  {
   "cell_type": "markdown",
   "metadata": {},
   "source": [
    "Everytime you call random, you will get a new number.\n",
    "\n",
    "*Exercise 1:* Using random, write a function `generate_uniform(N, mymin, mymax)`, that returns a python list containing N random numbers between specified minimum and maximum value. Note that you may want to quickly work out on paper how to turn numbers between 0 and 1 to between other values. "
   ]
  },
  {
   "cell_type": "code",
   "execution_count": 4,
   "metadata": {},
   "outputs": [],
   "source": [
    "# Skeleton\n",
    "def generate_uniform(N,x_min,x_max):\n",
    "    out = []\n",
    "    ### BEGIN SOLUTION\n",
    "    r= x_max-x_min\n",
    "    for x in range(N):\n",
    "        out.append(random.random()*r+x_min)       \n",
    "    \n",
    "    ### END SOLUTION\n",
    "    return out"
   ]
  },
  {
   "cell_type": "code",
   "execution_count": 5,
   "metadata": {},
   "outputs": [
    {
     "name": "stdout",
     "output_type": "stream",
     "text": [
      "Data Type: <class 'list'>\n",
      "Data Length: 1000\n",
      "Type of Data Contents: <class 'float'>\n",
      "Data Minimum: -9.954433024503944\n",
      "Data Maximum: 9.989013305441674\n"
     ]
    }
   ],
   "source": [
    "# Test your solution here\n",
    "data=generate_uniform(1000,-10,10)\n",
    "print (\"Data Type:\", type(data))\n",
    "print (\"Data Length:\", len(data))\n",
    "if len(data)>0: \n",
    "    print (\"Type of Data Contents:\", type(data[0]))\n",
    "    print (\"Data Minimum:\", min(data))\n",
    "    print (\"Data Maximum:\", max(data))"
   ]
  },
  {
   "cell_type": "markdown",
   "metadata": {},
   "source": [
    "*Exercise 2a:* \n",
    "Write a function that computes the mean of values in a list. Recall the equation for the mean of a random variable $\\bf{x}$ computed on a data set of $n$ values $\\{ x_i \\} = \\{x_1, x_2, ..., x_n\\}$  is ${\\bf\\bar{x}} = \\frac{1}{n} \\sum_i^n x_i$."
   ]
  },
  {
   "cell_type": "code",
   "execution_count": 8,
   "metadata": {},
   "outputs": [],
   "source": [
    "# Skeleton\n",
    "def mean(Data):\n",
    "    m=0.\n",
    "    \n",
    "    ### BEGIN SOLUTION\n",
    "    for x in Data: m+=x\n",
    "\n",
    "    ### END SOLUTION\n",
    "    \n",
    "    return m/len(Data)"
   ]
  },
  {
   "cell_type": "code",
   "execution_count": 9,
   "metadata": {},
   "outputs": [
    {
     "name": "stdout",
     "output_type": "stream",
     "text": [
      "Mean of Data: 0.35316804466529905\n"
     ]
    }
   ],
   "source": [
    "# Test your solution here\n",
    "print (\"Mean of Data:\", mean(data))"
   ]
  },
  {
   "cell_type": "markdown",
   "metadata": {},
   "source": [
    "*Exercise 2b:* \n",
    "Write a function that computes the variance of values in a list. Recall the equation for the variance of a random variable $\\bf{x}$ computed on a data set of $n$ values $\\{ x_i \\} = \\{x_1, x_2, ..., x_n\\}$  is ${\\bf\\langle x \\rangle} = \\frac{1}{n} \\sum_i^n (x_i - {\\bf\\bar{x}})$."
   ]
  },
  {
   "cell_type": "code",
   "execution_count": 12,
   "metadata": {},
   "outputs": [],
   "source": [
    "# Skeleton\n",
    "def variance(Data):\n",
    "    m=0.\n",
    "    \n",
    "    ### BEGIN SOLUTION\n",
    "\n",
    "    avg= mean(Data)\n",
    "    for x in Data: m+= (x-avg)**2\n",
    "    \n",
    "    ### END SOLUTION\n",
    "    \n",
    "    return m/len(Data)"
   ]
  },
  {
   "cell_type": "code",
   "execution_count": 13,
   "metadata": {},
   "outputs": [
    {
     "name": "stdout",
     "output_type": "stream",
     "text": [
      "Variance of Data: 33.35312602913437\n"
     ]
    }
   ],
   "source": [
    "# Test your solution here\n",
    "print (\"Variance of Data:\", variance(data))"
   ]
  },
  {
   "cell_type": "markdown",
   "metadata": {},
   "source": [
    "## Histogramming"
   ]
  },
  {
   "cell_type": "markdown",
   "metadata": {},
   "source": [
    "*Exercise 3:* Write a function that bins the data so that you can create a histogram. An example of how to implement histogramming is the following logic:\n",
    "\n",
    "* User inputs a list of values `x` and optionally `n_bins` which defaults to 10.\n",
    "* If not supplied, find the minimum and maximum (`x_min`,`x_max`) of the values in x.\n",
    "* Determine the bin size (`bin_size`) by dividing the range of the function by the number of bins.\n",
    "* Create an empty list of zeros of size `n_bins`, call it `hist`.\n",
    "* Loop over the values in `x`\n",
    "    * Loop over the values in `hist` with index `i`:\n",
    "        * If x is between `x_min+i*bin_size` and `x_min+(i+1)*bin_size`, increment `hist[i].` \n",
    "        * For efficiency, try to use continue to goto the next bin and data point.\n",
    "* Return `hist` and the list corresponding of the bin edges (i.e. of `x_min+i*bin_size`).    "
   ]
  },
  {
   "cell_type": "code",
   "execution_count": 14,
   "metadata": {},
   "outputs": [],
   "source": [
    "# Solution\n",
    "def histogram(x,n_bins=10,x_min=None,x_max=None):\n",
    "    ### BEGIN SOLUTION\n",
    "\n",
    "    if x_min==None:\n",
    "        x_min=min(x)\n",
    "    if x_max==None:\n",
    "        x_max=max(x)\n",
    "        \n",
    "    bin_size=(x_max-x_min)/n_bins\n",
    "    \n",
    "    hist=[0]*n_bins\n",
    "    bin_edges=[]\n",
    "    for i in range(len(hist)): bin_edges.append(x_min+i*bin_size)\n",
    "    bin_edges.append(x_max)\n",
    "    \n",
    "    for val in x:\n",
    "        for i in range(len(hist)):\n",
    "            if val>=bin_edges[i] and val<bin_edges[i+1]:\n",
    "                hist[i]+=1\n",
    "                break\n",
    "    \n",
    "    ### END SOLUTION\n",
    "\n",
    "    return hist,bin_edges"
   ]
  },
  {
   "cell_type": "code",
   "execution_count": 15,
   "metadata": {},
   "outputs": [
    {
     "name": "stdout",
     "output_type": "stream",
     "text": [
      "[13, 9, 8, 8, 7, 11, 11, 6, 8, 11, 14, 4, 7, 16, 11, 12, 10, 12, 6, 5, 5, 7, 11, 6, 12, 11, 8, 7, 17, 12, 8, 11, 15, 3, 5, 10, 10, 10, 10, 8, 2, 10, 7, 7, 13, 14, 11, 15, 20, 7, 9, 5, 12, 8, 16, 10, 10, 10, 8, 13, 5, 12, 3, 8, 8, 7, 11, 8, 15, 10, 13, 17, 7, 11, 7, 9, 12, 8, 11, 8, 16, 8, 19, 11, 7, 10, 20, 13, 15, 8, 8, 11, 11, 10, 9, 11, 13, 9, 10, 8]\n"
     ]
    }
   ],
   "source": [
    "# Test your solution here\n",
    "h,b=histogram(data,100)\n",
    "print(h)"
   ]
  },
  {
   "cell_type": "markdown",
   "metadata": {},
   "source": [
    "*Exercise 4:* Write a function that uses the histogram function in the previous exercise to create a text-based \"graph\". For example the output could look like the following:\n",
    "```\n",
    "[  0,  1] : ######\n",
    "[  1,  2] : #####\n",
    "[  2,  3] : ######\n",
    "[  3,  4] : ####\n",
    "[  4,  5] : ####\n",
    "[  5,  6] : ######\n",
    "[  6,  7] : #####\n",
    "[  7,  8] : ######\n",
    "[  8,  9] : ####\n",
    "[  9, 10] : #####\n",
    "```\n",
    "\n",
    "Where each line corresponds to a bin and the number of `#`'s are proportional to the value of the data in the bin. "
   ]
  },
  {
   "cell_type": "code",
   "execution_count": 19,
   "metadata": {},
   "outputs": [],
   "source": [
    "# Solution\n",
    "def draw_histogram(x,n_bins,x_min=None,x_max=None,character=\"#\",max_character_per_line=20):\n",
    "    ### BEGIN SOLUTION\n",
    "\n",
    "    # Fill in your solution here        \n",
    "    if x_min==None:\n",
    "        x_min=min(x)\n",
    "    if x_max==None:\n",
    "        x_max=max(x)\n",
    "\n",
    "    hist,bin_edges=histogram(x,n_bins)\n",
    "\n",
    "    for i in range(len(hist)):\n",
    "        char_count=0\n",
    "        print('[{:9},{:9}'.format(round(bin_edges[i],5),round(bin_edges[i+1],5))+']',': ',end=\"\")\n",
    "        for v in range(hist[i]):\n",
    "            if char_count<max_character_per_line:\n",
    "                print(character,end=\"\")\n",
    "                char_count+=1\n",
    "        print()\n",
    "        \n",
    "    ### END SOLUTION\n",
    "\n",
    "    return hist,bin_edges"
   ]
  },
  {
   "cell_type": "code",
   "execution_count": 22,
   "metadata": {},
   "outputs": [
    {
     "name": "stdout",
     "output_type": "stream",
     "text": [
      "[ 10.12507, 10.61171] : ###############\n",
      "[ 10.61171, 11.09836] : #############\n",
      "[ 11.09836,   11.585] : ###########\n",
      "[   11.585, 12.07164] : #######\n",
      "[ 12.07164, 12.55829] : #######\n",
      "[ 12.55829, 13.04493] : ##############\n",
      "[ 13.04493, 13.53157] : ############\n",
      "[ 13.53157, 14.01822] : ###########\n",
      "[ 14.01822, 14.50486] : ########\n",
      "[ 14.50486, 14.99151] : ##########\n",
      "[ 14.99151, 15.47815] : ##########\n",
      "[ 15.47815, 15.96479] : #############\n",
      "[ 15.96479, 16.45144] : ######\n",
      "[ 16.45144, 16.93808] : ###############\n",
      "[ 16.93808, 17.42472] : #######\n",
      "[ 17.42472, 17.91137] : ###\n",
      "[ 17.91137, 18.39801] : ########\n",
      "[ 18.39801, 18.88465] : #########\n",
      "[ 18.88465,  19.3713] : ############\n",
      "[  19.3713, 19.85794] : ########\n"
     ]
    }
   ],
   "source": [
    "# Test your solution here\n",
    "h,b=histogram(data,20)\n",
    "\n",
    "data_test=generate_uniform(200,10,20)\n",
    "h,b=draw_histogram(data_test,20)"
   ]
  },
  {
   "cell_type": "markdown",
   "metadata": {},
   "source": [
    "## Functional Programming\n",
    "\n",
    "*Exercise 5:* Write a function the applies a booling function (that returns true/false) to every element in data, and return a list of indices of elements where the result was true. Use this function to find the indices of entries greater than 0.5. "
   ]
  },
  {
   "cell_type": "code",
   "execution_count": 25,
   "metadata": {},
   "outputs": [],
   "source": [
    "def where(mylist,myfunc):\n",
    "    out= []\n",
    "    \n",
    "    ### BEGIN SOLUTION\n",
    "\n",
    "    # Fill in your solution here \n",
    "    for x in mylist:\n",
    "        if myfunc(x): out.append(mylist.index(x))\n",
    "    \n",
    "    ### END SOLUTION\n",
    "    \n",
    "    return out\n"
   ]
  },
  {
   "cell_type": "code",
   "execution_count": 26,
   "metadata": {},
   "outputs": [],
   "source": [
    "def is_larger(x,comp=0.5):\n",
    "    return x>comp"
   ]
  },
  {
   "cell_type": "code",
   "execution_count": 28,
   "metadata": {},
   "outputs": [
    {
     "data": {
      "text/plain": [
       "[0, 3]"
      ]
     },
     "execution_count": 28,
     "metadata": {},
     "output_type": "execute_result"
    }
   ],
   "source": [
    "# Test your solution here\n",
    "test_list=[0.7,0.5,0.3,0.6,0.2]\n",
    "output=where(test_list,is_larger)\n",
    "output"
   ]
  },
  {
   "cell_type": "markdown",
   "metadata": {},
   "source": [
    "*Exercise 6:* The `inrange(mymin,mymax)` function below returns a function that tests if it's input is between the specified values. Write corresponding functions that test:\n",
    "* Even\n",
    "* Odd\n",
    "* Greater than\n",
    "* Less than\n",
    "* Equal\n",
    "* Divisible by"
   ]
  },
  {
   "cell_type": "code",
   "execution_count": 30,
   "metadata": {},
   "outputs": [
    {
     "name": "stdout",
     "output_type": "stream",
     "text": [
      "True True False False False\n",
      "False False True True False\n",
      "Number of Entries passing F1: 519\n",
      "Number of Entries passing F2: 0\n"
     ]
    }
   ],
   "source": [
    "def in_range(mymin,mymax):\n",
    "    def testrange(x):\n",
    "        return x<mymax and x>=mymin\n",
    "    return testrange\n",
    "\n",
    "# Examples:\n",
    "F1=in_range(0,10)\n",
    "F2=in_range(10,20)\n",
    "\n",
    "# Test of in_range\n",
    "print (F1(0), F1(1), F1(10), F1(15), F1(20))\n",
    "print (F2(0), F2(1), F2(10), F2(15), F2(20))\n",
    "\n",
    "print (\"Number of Entries passing F1:\", len(where(data,F1)))\n",
    "print (\"Number of Entries passing F2:\", len(where(data,F2)))"
   ]
  },
  {
   "cell_type": "code",
   "execution_count": 31,
   "metadata": {},
   "outputs": [],
   "source": [
    "### BEGIN SOLUTION\n",
    "\n",
    "    # Fill in your solution here        \n",
    "def is_even(x):\n",
    "    return x%2==0\n",
    "\n",
    "def greater_than(num1):\n",
    "    def compare(num2):\n",
    "        return num2>num1\n",
    "    return compare\n",
    "\n",
    "def less_than(num1):\n",
    "    def compare(num2):\n",
    "        return num2<num1\n",
    "    return compare\n",
    "\n",
    "def is_equal(num1):\n",
    "    def compare(num2):\n",
    "        return num2==num1\n",
    "    return compare\n",
    "\n",
    "def div_by(num1):\n",
    "    def is_div(num2):\n",
    "        return num2%num1==0\n",
    "    return is_div\n",
    "### END SOLUTION"
   ]
  },
  {
   "cell_type": "code",
   "execution_count": 33,
   "metadata": {},
   "outputs": [
    {
     "name": "stdout",
     "output_type": "stream",
     "text": [
      "15 is even: False\n",
      "6 is even: True\n",
      "12>5: True\n",
      "3>5: False\n",
      "1<5: True\n",
      "4<5: True\n",
      "5=5: True\n",
      "55=5: False\n",
      "20%5==0: True\n",
      "21%5==0: False\n"
     ]
    }
   ],
   "source": [
    "# Test your solution\n",
    "greater_5=greater_than(5)\n",
    "lesser_5=less_than(5)\n",
    "eq_5=is_equal(5)\n",
    "div_5=div_by(5)\n",
    "\n",
    "print('15 is even:', is_even(15))\n",
    "print('6 is even:', is_even(6))\n",
    "print('12>5:',greater_5(12))\n",
    "print('3>5:',greater_5(3))\n",
    "print('1<5:',lesser_5(1))\n",
    "print('4<5:',lesser_5(4))\n",
    "print('5=5:',eq_5(5))\n",
    "print('55=5:',eq_5(55))\n",
    "print('20%5==0:',div_5(20))\n",
    "print('21%5==0:',div_5(21))"
   ]
  },
  {
   "cell_type": "markdown",
   "metadata": {},
   "source": [
    "*Exercise 7:* Repeat the previous exercise using `lambda` and the built-in python functions sum and map instead of your solution above. "
   ]
  },
  {
   "cell_type": "code",
   "execution_count": 35,
   "metadata": {},
   "outputs": [],
   "source": [
    "### BEGIN SOLUTION\n",
    "\n",
    "    # Fill in your solution here\n",
    "    \n",
    "even=lambda x:x%2==0     \n",
    "odd=lambda x:x%2!=0\n",
    "\n",
    "bigger=lambda x:lambda y: y>x\n",
    "smaller=lambda x:lambda y: y<x\n",
    "equals=lambda x:lambda y: y==x\n",
    "can_div=lambda x:lambda y: y%x==0\n",
    "    \n",
    "### END SOLUTION"
   ]
  },
  {
   "cell_type": "markdown",
   "metadata": {},
   "source": [
    "## Monte Carlo\n",
    "\n",
    "*Exercise 7:* Write a \"generator\" function called `generate_function(func,x_min,x_max,N)`, that instead of generating a flat distribution, generates a distribution with functional form coded in `func`. Note that `func` will always be > 0.  \n",
    "\n",
    "Use the test function below and your histogramming functions above to demonstrate that your generator is working properly.\n",
    "\n",
    "Hint: A simple, but slow, solution is to a draw random number `test_x` within the specified range and another number `p` between the `min` and `max` of the function (which you will have to determine). If `p<=function(test_x)`, then place `test_x` on the output. If not, repeat the process, drawing two new numbers. Repeat until you have the specified number of generated numbers, `N`. For this problem, it's OK to determine the `min` and `max` by numerically sampling the function.  "
   ]
  },
  {
   "cell_type": "code",
   "execution_count": 40,
   "metadata": {},
   "outputs": [],
   "source": [
    "def find_min_max(x):\n",
    "    min=x[0]\n",
    "    max=x[0]\n",
    "\n",
    "    for val in x:\n",
    "        if val<min: min=val\n",
    "        if val>max: max=val\n",
    "\n",
    "    return min,max\n",
    "\n",
    "def generate_function(func,x_min,x_max,N=1000):\n",
    "    out = list()\n",
    "    ### BEGIN SOLUTION\n",
    "    \n",
    "    y_vals=[]\n",
    "    for x in range(x_min,x_max): y_vals.append(func(x))\n",
    "\n",
    "    y_min,y_max=find_min_max(y_vals)\n",
    "\n",
    "    x_range=(x_max-x_min)\n",
    "    y_range=(y_max-y_min)\n",
    "    \n",
    "    while(len(out)<N):\n",
    "        rand_x=random.random()*x_range+x_min\n",
    "        rand_y=random.random()*y_range+y_min\n",
    "        if rand_y<func(rand_x): out.append(rand_x)\n",
    "    \n",
    "    ### END SOLUTION\n",
    "    \n",
    "    return out "
   ]
  },
  {
   "cell_type": "code",
   "execution_count": 41,
   "metadata": {},
   "outputs": [],
   "source": [
    "# A test function\n",
    "def test_func(x,a=1,b=1, N=1000):\n",
    "    return abs(a*x+b)"
   ]
  },
  {
   "cell_type": "markdown",
   "metadata": {},
   "source": [
    "*Exercise 8:* Use your function to generate 1000 numbers that are normal distributed, using the `gaussian` function below. Confirm the mean and variance of the data is close to the mean and variance you specify when building the Gaussian. Histogram the data. "
   ]
  },
  {
   "cell_type": "code",
   "execution_count": 42,
   "metadata": {},
   "outputs": [],
   "source": [
    "import math\n",
    "\n",
    "def gaussian(mean, sigma):\n",
    "    def f(x):\n",
    "        return math.exp(-((x-mean)**2)/(2*sigma**2))/math.sqrt(math.pi*sigma)\n",
    "    return f\n",
    "\n",
    "# Example Instantiation\n",
    "g1=gaussian(0,1)\n",
    "g2=gaussian(10,3)"
   ]
  },
  {
   "cell_type": "code",
   "execution_count": 43,
   "metadata": {},
   "outputs": [
    {
     "data": {
      "text/plain": [
       "9.950189094036418"
      ]
     },
     "execution_count": 43,
     "metadata": {},
     "output_type": "execute_result"
    }
   ],
   "source": [
    "dist=generate_function(g2,-500,500)\n",
    "mean(dist)\n"
   ]
  },
  {
   "cell_type": "markdown",
   "metadata": {},
   "source": [
    "*Exercise 9:* Combine your `generate_function`, `where`, and `in_range` functions above to create an integrate function. Use your integrate function to show that approximately 68% of Normal distribution is within one variance."
   ]
  },
  {
   "cell_type": "code",
   "execution_count": 44,
   "metadata": {},
   "outputs": [],
   "source": [
    "def integrate(func, x_min, x_max, n_points=1000):\n",
    "\n",
    "    y_vals=generate_function(func,x_min,x_max,N=n_points)\n",
    "    \n",
    "    y_min,y_max=find_min_max(y_vals)\n",
    "\n",
    "    x_range=x_max-x_min\n",
    "    y_range=y_max-y_min\n",
    "\n",
    "    sigma=math.sqrt(variance(y_vals))\n",
    "    xbar=mean(y_vals)\n",
    "\n",
    "    f1=in_range(xbar-sigma,xbar+sigma)\n",
    "\n",
    "    valid=where(y_vals,f1)\n",
    "    integral=len(valid)/len(y_vals)\n",
    "    \n",
    "    return integral,integral*x_range*y_range"
   ]
  },
  {
   "cell_type": "code",
   "execution_count": 45,
   "metadata": {},
   "outputs": [
    {
     "data": {
      "text/plain": [
       "(0.683, 45.53081795704066)"
      ]
     },
     "execution_count": 45,
     "metadata": {},
     "output_type": "execute_result"
    }
   ],
   "source": [
    "\n",
    "integrate(g1,-5,5)\n"
   ]
  },
  {
   "cell_type": "code",
   "execution_count": null,
   "metadata": {},
   "outputs": [],
   "source": []
  }
 ],
 "metadata": {
  "kernelspec": {
   "display_name": "Python 3 (ipykernel)",
   "language": "python",
   "name": "python3"
  },
  "language_info": {
   "codemirror_mode": {
    "name": "ipython",
    "version": 3
   },
   "file_extension": ".py",
   "mimetype": "text/x-python",
   "name": "python",
   "nbconvert_exporter": "python",
   "pygments_lexer": "ipython3",
   "version": "3.11.4"
  }
 },
 "nbformat": 4,
 "nbformat_minor": 2
}
