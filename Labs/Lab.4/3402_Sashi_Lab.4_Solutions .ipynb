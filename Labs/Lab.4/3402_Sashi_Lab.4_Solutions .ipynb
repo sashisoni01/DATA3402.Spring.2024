{
 "cells": [
  {
   "cell_type": "markdown",
   "metadata": {},
   "source": [
    "# Lab 4- Object Oriented Programming\n",
    "\n",
    "For all of the exercises below, make sure you provide tests of your solutions.\n"
   ]
  },
  {
   "cell_type": "markdown",
   "metadata": {},
   "source": [
    "1. Write a \"counter\" class that can be incremented up to a specified maximum value, will print an error if an attempt is made to increment beyond that value, and allows reseting the counter. "
   ]
  },
  {
   "cell_type": "code",
   "execution_count": 1,
   "metadata": {},
   "outputs": [],
   "source": [
    "class Counter:\n",
    "    def __init__(self, max_value):\n",
    "        self.value = 0\n",
    "        self.max_value = max_value\n",
    "\n",
    "    def increment(self):\n",
    "        if self.value < self.max_value:\n",
    "            self.value += 1\n",
    "        else:\n",
    "            print(\"Error: Counter has reached maximum value.\")\n",
    "\n",
    "    def reset(self):\n",
    "        self.value = 0\n",
    "\n",
    "    def get_value(self):\n",
    "        return self.value"
   ]
  },
  {
   "cell_type": "code",
   "execution_count": 5,
   "metadata": {},
   "outputs": [
    {
     "name": "stdout",
     "output_type": "stream",
     "text": [
      "Initial value: 0\n",
      "Current value: 1\n",
      "Current value: 2\n",
      "Current value: 3\n",
      "Current value: 4\n",
      "Current value: 5\n",
      "Error: Counter has reached maximum value.\n",
      "Current value: 5\n",
      "After reset, current value: 0\n"
     ]
    }
   ],
   "source": [
    "counter = Counter(5)  # Creating a counter with maximum value of 5\n",
    "\n",
    "print(\"Initial value:\", counter.get_value())\n",
    "\n",
    "counter.increment()  # Incrementing the counter\n",
    "print(\"Current value:\", counter.get_value())\n",
    "\n",
    "counter.increment()  # Incrementing the counter\n",
    "print(\"Current value:\", counter.get_value())\n",
    "\n",
    "counter.increment()  # Incrementing the counter\n",
    "print(\"Current value:\", counter.get_value())\n",
    "\n",
    "counter.increment()  # Incrementing the counter\n",
    "print(\"Current value:\", counter.get_value())\n",
    "\n",
    "counter.increment()  # Incrementing the counter\n",
    "print(\"Current value:\", counter.get_value())\n",
    "\n",
    "counter.increment()  # Attempting to increment beyond maximum value\n",
    "print(\"Current value:\", counter.get_value())\n",
    "\n",
    "counter.reset()  # Resetting the counter\n",
    "print(\"After reset, current value:\", counter.get_value())"
   ]
  },
  {
   "cell_type": "markdown",
   "metadata": {},
   "source": [
    "2. Copy and paste your solution to question 1 and modify it so that all the data held by the counter is private. Implement functions to check the value of the counter, check the maximum value, and check if the counter is at the maximum."
   ]
  },
  {
   "cell_type": "code",
   "execution_count": 3,
   "metadata": {},
   "outputs": [],
   "source": [
    "class PrivateCounter:\n",
    "    def __init__(self, max_value):\n",
    "        self.__value = 0\n",
    "        self.__max_value = max_value\n",
    "\n",
    "    def increment(self):\n",
    "        if self.__value < self.__max_value:\n",
    "            self.__value += 1\n",
    "        else:\n",
    "            print(\"Error: Counter has reached maximum value.\")\n",
    "\n",
    "    def reset(self):\n",
    "        self.__value = 0\n",
    "\n",
    "    def get_value(self):\n",
    "        return self.__value\n",
    "\n",
    "    def get_max_value(self):\n",
    "        return self.__max_value\n",
    "\n",
    "    def is_at_max(self):\n",
    "        return self.__value == self.__max_value"
   ]
  },
  {
   "cell_type": "code",
   "execution_count": 6,
   "metadata": {},
   "outputs": [
    {
     "name": "stdout",
     "output_type": "stream",
     "text": [
      "Initial value: 0\n",
      "Maximum value: 5\n",
      "Is counter at maximum? False\n",
      "Current value: 1\n",
      "Is counter at maximum? False\n",
      "Current value: 2\n",
      "Is counter at maximum? False\n",
      "Current value: 3\n",
      "Is counter at maximum? False\n",
      "Current value: 4\n",
      "Is counter at maximum? False\n",
      "Current value: 5\n",
      "Is counter at maximum? True\n",
      "Error: Counter has reached maximum value.\n",
      "Current value: 5\n",
      "Is counter at maximum? True\n",
      "After reset, current value: 0\n",
      "Is counter at maximum? False\n"
     ]
    }
   ],
   "source": [
    "counter = PrivateCounter(5)  # Creating a counter with maximum value of 5\n",
    "\n",
    "print(\"Initial value:\", counter.get_value())\n",
    "print(\"Maximum value:\", counter.get_max_value())\n",
    "print(\"Is counter at maximum?\", counter.is_at_max())\n",
    "\n",
    "counter.increment()  # Incrementing the counter\n",
    "print(\"Current value:\", counter.get_value())\n",
    "print(\"Is counter at maximum?\", counter.is_at_max())\n",
    "\n",
    "counter.increment()  # Incrementing the counter\n",
    "print(\"Current value:\", counter.get_value())\n",
    "print(\"Is counter at maximum?\", counter.is_at_max())\n",
    "\n",
    "counter.increment()  # Incrementing the counter\n",
    "print(\"Current value:\", counter.get_value())\n",
    "print(\"Is counter at maximum?\", counter.is_at_max())\n",
    "\n",
    "counter.increment()  # Incrementing the counter\n",
    "print(\"Current value:\", counter.get_value())\n",
    "print(\"Is counter at maximum?\", counter.is_at_max())\n",
    "\n",
    "counter.increment()  # Incrementing the counter\n",
    "print(\"Current value:\", counter.get_value())\n",
    "print(\"Is counter at maximum?\", counter.is_at_max())\n",
    "\n",
    "counter.increment()  # Attempting to increment beyond maximum value\n",
    "print(\"Current value:\", counter.get_value())\n",
    "print(\"Is counter at maximum?\", counter.is_at_max())\n",
    "\n",
    "counter.reset()  # Resetting the counter\n",
    "print(\"After reset, current value:\", counter.get_value())\n",
    "print(\"Is counter at maximum?\", counter.is_at_max())"
   ]
  },
  {
   "cell_type": "markdown",
   "metadata": {},
   "source": [
    "3. Implement a class to represent a rectangle, holding the length, width, and $x$ and $y$ coordinates of a corner of the object. Implement functions that compute the area and perimeter of the rectangle. Make all data members private and privide accessors to retrieve values of data members. "
   ]
  },
  {
   "cell_type": "code",
   "execution_count": 7,
   "metadata": {},
   "outputs": [],
   "source": [
    "class Rectangle:\n",
    "    def __init__(self, length, width, x, y):\n",
    "        self.__length = length\n",
    "        self.__width = width\n",
    "        self.__x = x\n",
    "        self.__y = y\n",
    "\n",
    "    def get_length(self):\n",
    "        return self.__length\n",
    "\n",
    "    def get_width(self):\n",
    "        return self.__width\n",
    "\n",
    "    def get_x(self):\n",
    "        return self.__x\n",
    "\n",
    "    def get_y(self):\n",
    "        return self.__y\n",
    "\n",
    "    def area(self):\n",
    "        return self.__length * self.__width\n",
    "\n",
    "    def perimeter(self):\n",
    "        return 2 * (self.__length + self.__width)"
   ]
  },
  {
   "cell_type": "code",
   "execution_count": 8,
   "metadata": {},
   "outputs": [
    {
     "name": "stdout",
     "output_type": "stream",
     "text": [
      "Length: 5\n",
      "Width: 3\n",
      "Corner coordinates (x, y): 0 , 0\n",
      "Area: 15\n",
      "Perimeter: 16\n"
     ]
    }
   ],
   "source": [
    "rectangle = Rectangle(5, 3, 0, 0)  # Creating a rectangle with length 5, width 3, and corner at (0, 0)\n",
    "\n",
    "print(\"Length:\", rectangle.get_length())\n",
    "print(\"Width:\", rectangle.get_width())\n",
    "print(\"Corner coordinates (x, y):\", rectangle.get_x(), \",\", rectangle.get_y())\n",
    "print(\"Area:\", rectangle.area())\n",
    "print(\"Perimeter:\", rectangle.perimeter())"
   ]
  },
  {
   "cell_type": "markdown",
   "metadata": {},
   "source": [
    "4. Implement a class to represent a circle, holding the radius and $x$ and $y$ coordinates of center of the object. Implement functions that compute the area and perimeter of the rectangle. Make all data members private and privide accessors to retrieve values of data members. "
   ]
  },
  {
   "cell_type": "code",
   "execution_count": 9,
   "metadata": {},
   "outputs": [],
   "source": [
    "import math\n",
    "\n",
    "class Circle:\n",
    "    def __init__(self, radius, x, y):\n",
    "        self.__radius = radius\n",
    "        self.__x = x\n",
    "        self.__y = y\n",
    "\n",
    "    def get_radius(self):\n",
    "        return self.__radius\n",
    "\n",
    "    def get_x(self):\n",
    "        return self.__x\n",
    "\n",
    "    def get_y(self):\n",
    "        return self.__y\n",
    "\n",
    "    def area(self):\n",
    "        return math.pi * self.__radius**2\n",
    "\n",
    "    def circumference(self):\n",
    "        return 2 * math.pi * self.__radius"
   ]
  },
  {
   "cell_type": "code",
   "execution_count": 10,
   "metadata": {},
   "outputs": [
    {
     "name": "stdout",
     "output_type": "stream",
     "text": [
      "Radius: 5\n",
      "Center coordinates (x, y): 0 , 0\n",
      "Area: 78.53981633974483\n",
      "Circumference: 31.41592653589793\n"
     ]
    }
   ],
   "source": [
    "circle = Circle(5, 0, 0)  # Creating a circle with radius 5 and center at (0, 0)\n",
    "\n",
    "print(\"Radius:\", circle.get_radius())\n",
    "print(\"Center coordinates (x, y):\", circle.get_x(), \",\", circle.get_y())\n",
    "print(\"Area:\", circle.area())\n",
    "print(\"Circumference:\", circle.circumference())"
   ]
  },
  {
   "cell_type": "markdown",
   "metadata": {},
   "source": [
    "5. Implement a common base class for the classes implemented in 3 and 4 above which implements all common methods as not implemented functions (virtual). Re-implement those classes to inherit from the base class and overload the functions accordingly. "
   ]
  },
  {
   "cell_type": "code",
   "execution_count": 18,
   "metadata": {},
   "outputs": [],
   "source": [
    "from abc import ABC, abstractmethod\n",
    "\n",
    "class Shape(ABC):\n",
    "    def __init__(self, x, y):\n",
    "        self.__x = x\n",
    "        self.__y = y\n",
    "\n",
    "    def get_x(self):\n",
    "        return self.__x\n",
    "\n",
    "    def get_y(self):\n",
    "        return self.__y\n",
    "\n",
    "    @abstractmethod\n",
    "    def area(self):\n",
    "        pass\n",
    "\n",
    "    @abstractmethod\n",
    "    def perimeter(self):\n",
    "        pass\n",
    "\n",
    "\n",
    "class Rectangle(Shape):\n",
    "    def __init__(self, length, width, x, y):\n",
    "        super().__init__(x, y)\n",
    "        self.__length = length\n",
    "        self.__width = width\n",
    "\n",
    "    def area(self):\n",
    "        return self.__length * self.__width\n",
    "\n",
    "    def perimeter(self):\n",
    "        return 2 * (self.__length + self.__width)\n",
    "\n",
    "\n",
    "class Circle(Shape):\n",
    "    def __init__(self, radius, x, y):\n",
    "        super().__init__(x, y)\n",
    "        self.__radius = radius\n",
    "\n",
    "    def area(self):\n",
    "        return math.pi * self.__radius**2\n",
    "\n",
    "    def perimeter(self):\n",
    "        return 2 * math.pi * self.__radius\n"
   ]
  },
  {
   "cell_type": "code",
   "execution_count": 12,
   "metadata": {},
   "outputs": [
    {
     "name": "stdout",
     "output_type": "stream",
     "text": [
      "--- Rectangle ---\n",
      "Area: 15\n",
      "Perimeter: 16\n",
      "Corner coordinates (x, y): 0 , 0\n",
      "--- Circle ---\n",
      "Area: 78.53981633974483\n",
      "Circumference: 31.41592653589793\n",
      "Center coordinates (x, y): 0 , 0\n"
     ]
    }
   ],
   "source": [
    "rectangle = Rectangle(5, 3, 0, 0)  # Creating a rectangle with length 5, width 3, and corner at (0, 0)\n",
    "circle = Circle(5, 0, 0)  # Creating a circle with radius 5 and center at (0, 0)\n",
    "\n",
    "print(\"--- Rectangle ---\")\n",
    "print(\"Area:\", rectangle.area())\n",
    "print(\"Perimeter:\", rectangle.perimeter())\n",
    "print(\"Corner coordinates (x, y):\", rectangle.get_x(), \",\", rectangle.get_y())\n",
    "\n",
    "print(\"--- Circle ---\")\n",
    "print(\"Area:\", circle.area())\n",
    "print(\"Circumference:\", circle.perimeter())\n",
    "print(\"Center coordinates (x, y):\", circle.get_x(), \",\", circle.get_y())"
   ]
  },
  {
   "cell_type": "markdown",
   "metadata": {},
   "source": [
    "6. Implement an analogous triangle class."
   ]
  },
  {
   "cell_type": "code",
   "execution_count": 13,
   "metadata": {},
   "outputs": [],
   "source": [
    "class Triangle(Shape):\n",
    "    def __init__(self, side1, side2, side3, x1, y1, x2, y2, x3, y3):\n",
    "        super().__init__(x1, y1)\n",
    "        self.__side1 = side1\n",
    "        self.__side2 = side2\n",
    "        self.__side3 = side3\n",
    "        self.__x2 = x2\n",
    "        self.__y2 = y2\n",
    "        self.__x3 = x3\n",
    "        self.__y3 = y3\n",
    "\n",
    "    def get_side1(self):\n",
    "        return self.__side1\n",
    "\n",
    "    def get_side2(self):\n",
    "        return self.__side2\n",
    "\n",
    "    def get_side3(self):\n",
    "        return self.__side3\n",
    "\n",
    "    def get_x2(self):\n",
    "        return self.__x2\n",
    "\n",
    "    def get_y2(self):\n",
    "        return self.__y2\n",
    "\n",
    "    def get_x3(self):\n",
    "        return self.__x3\n",
    "\n",
    "    def get_y3(self):\n",
    "        return self.__y3\n",
    "\n",
    "    def area(self):\n",
    "        s = (self.__side1 + self.__side2 + self.__side3) / 2\n",
    "        return math.sqrt(s * (s - self.__side1) * (s - self.__side2) * (s - self.__side3))\n",
    "\n",
    "    def perimeter(self):\n",
    "        return self.__side1 + self.__side2 + self.__side3\n"
   ]
  },
  {
   "cell_type": "code",
   "execution_count": 14,
   "metadata": {},
   "outputs": [
    {
     "name": "stdout",
     "output_type": "stream",
     "text": [
      "--- Triangle ---\n",
      "Area: 6.0\n",
      "Perimeter: 12\n",
      "Vertex 1 coordinates (x, y): 0 , 0\n",
      "Vertex 2 coordinates (x, y): 3 , 0\n",
      "Vertex 3 coordinates (x, y): 0 , 4\n"
     ]
    }
   ],
   "source": [
    "triangle = Triangle(3, 4, 5, 0, 0, 3, 0, 0, 4)  # Creating a triangle with sides 3, 4, and 5 and vertices at (0, 0), (3, 0), and (0, 4)\n",
    "\n",
    "print(\"--- Triangle ---\")\n",
    "print(\"Area:\", triangle.area())\n",
    "print(\"Perimeter:\", triangle.perimeter())\n",
    "print(\"Vertex 1 coordinates (x, y):\", triangle.get_x(), \",\", triangle.get_y())\n",
    "print(\"Vertex 2 coordinates (x, y):\", triangle.get_x2(), \",\", triangle.get_y2())\n",
    "print(\"Vertex 3 coordinates (x, y):\", triangle.get_x3(), \",\", triangle.get_y3())"
   ]
  },
  {
   "cell_type": "markdown",
   "metadata": {},
   "source": [
    "7. Add a function to the object classes that tests if a given set of $x$ and $y$ coordinates are inside of the object."
   ]
  },
  {
   "cell_type": "code",
   "execution_count": 32,
   "metadata": {},
   "outputs": [],
   "source": [
    "class Shape(ABC):\n",
    "    \n",
    "    @abstractmethod\n",
    "    def is_inside(self, x, y):\n",
    "        pass\n",
    "\n",
    "class Rectangle(Shape):\n",
    "    \n",
    "    def is_inside(self, x, y):\n",
    "        return (x >= self.get_x() and x <= self.get_x() + self.__length) and (y >= self.get_y() and y <= self.get_y() + self.__width)\n",
    "\n",
    "    \n",
    "class Circle(Shape):\n",
    "\n",
    "    def is_inside(self, x, y):\n",
    "        distance_squared = (x - self.get_x())**2 + (y - self.get_y())**2\n",
    "        return distance_squared <= self.get_radius()**2\n",
    "    \n",
    "\n",
    "class Triangle(Shape):\n",
    "\n",
    "    def is_inside(self, x, y):\n",
    "        # Compute barycentric coordinates\n",
    "        det_T = (self.get_x2() - self.get_x()) * (self.get_y3() - self.get_y()) - (self.get_x3() - self.get_x()) * (self.get_y2() - self.get_y())\n",
    "        det_alpha = (self.get_x2() - x) * (self.get_y3() - y) - (self.get_x3() - x) * (self.get_y2() - y)\n",
    "        det_beta = (self.get_x3() - x) * (self.get_y() - y) - (self.get_x() - x) * (self.get_y3() - y)\n",
    "        det_gamma = (self.get_x() - x) * (self.get_y2() - y) - (self.get_x2() - x) * (self.get_y() - y)\n",
    "\n",
    "        # Check if the point is inside the triangle\n",
    "        return det_alpha >= 0 and det_beta >= 0 and det_gamma >= 0 and (det_alpha + det_beta + det_gamma) <= det_T"
   ]
  },
  {
   "cell_type": "markdown",
   "metadata": {},
   "source": [
    "8. Add a function to the object classes that return a list of up to 16 pairs of  $x$ and $y$ points on the parameter of the object.\n",
    "\n"
   ]
  },
  {
   "cell_type": "code",
   "execution_count": 34,
   "metadata": {},
   "outputs": [],
   "source": [
    "class Shape(ABC):\n",
    "    \n",
    "    @abstractmethod\n",
    "    def get_parameter_points(self, num_points):\n",
    "        pass\n",
    "    \n",
    "\n",
    "class Rectangle(Shape):\n",
    "    \n",
    "    def get_parameter_points(self, num_points=16):\n",
    "        points = []\n",
    "        # Top side\n",
    "        for i in range(num_points):\n",
    "            x = self.get_x() + (i * self.__length) / (num_points - 1)\n",
    "            y = self.get_y()\n",
    "            points.append((x, y))\n",
    "        # Right side\n",
    "        for i in range(num_points):\n",
    "            x = self.get_x() + self.__length\n",
    "            y = self.get_y() + (i * self.__width) / (num_points - 1)\n",
    "            points.append((x, y))\n",
    "        # Bottom side\n",
    "        for i in range(num_points):\n",
    "            x = self.get_x() + self.__length - (i * self.__length) / (num_points - 1)\n",
    "            y = self.get_y() + self.__width\n",
    "            points.append((x, y))\n",
    "        # Left side\n",
    "        for i in range(num_points):\n",
    "            x = self.get_x()\n",
    "            y = self.get_y() + self.__width - (i * self.__width) / (num_points - 1)\n",
    "            points.append((x, y))\n",
    "            return points\n",
    "\n",
    "        \n",
    "class Circle(Shape):\n",
    "    \n",
    "    def get_parameter_points(self, num_points=16):\n",
    "        points = []\n",
    "        for i in range(num_points):\n",
    "            angle = 2 * math.pi * i / num_points\n",
    "            x = self.get_x() + self.__radius * math.cos(angle)\n",
    "            y = self.get_y() + self.__radius * math.sin(angle)\n",
    "            points.append((x, y))\n",
    "            return points\n",
    "\n",
    "        \n",
    "class Triangle(Shape):\n",
    "    \n",
    "    def get_parameter_points(self, num_points=16):\n",
    "        points = []\n",
    "        for i in range(num_points):\n",
    "            alpha = 2 * math.pi * i / num_points\n",
    "            x = self.get_x() + (self.get_x2() - self.get_x()) * math.cos(alpha) + (self.get_x3() - self.get_x()) * math.sin(alpha)\n",
    "            y = self.get_y() + (self.get_y2() - self.get_y()) * math.cos(alpha) + (self.get_y3() - self.get_y()) * math.sin(alpha)\n",
    "            points.append((x, y))\n",
    "        return points\n"
   ]
  },
  {
   "cell_type": "markdown",
   "metadata": {},
   "source": [
    "9. Add a function in the base class of the object classes that returns true/false testing that the object overlaps with another object."
   ]
  },
  {
   "cell_type": "code",
   "execution_count": 35,
   "metadata": {},
   "outputs": [],
   "source": [
    "class Shape(ABC):\n",
    "    \n",
    "    @abstractmethod\n",
    "    def overlaps(self, other):\n",
    "        pass\n",
    "    \n",
    "class Rectangle(Shape):\n",
    "    \n",
    "     def overlaps(self, other):\n",
    "        # Check if any corner of this rectangle is inside the other rectangle\n",
    "        return any(self.is_inside(x, y) for x, y in other.get_parameter_points())\n",
    "    \n",
    "class Circle(Shape):\n",
    "    \n",
    "    def overlaps(self, other):\n",
    "        # Check if the distance between centers is less than the sum of radii\n",
    "        distance_centers = math.sqrt((self.get_x() - other.get_x())**2 + (self.get_y() - other.get_y())**2)\n",
    "        return distance_centers < self.__radius + other.get_radius()\n",
    "    \n",
    "class Triangle(Shape):\n",
    "    \n",
    "    def overlaps(self, other):\n",
    "        # Check if any corner of this triangle is inside the other triangle\n",
    "        return any(self.is_inside(x, y) for x, y in other.get_parameter_points())\n",
    "    \n"
   ]
  },
  {
   "cell_type": "markdown",
   "metadata": {},
   "source": [
    "10. Copy the `Canvas` class from lecture to in a python file creating a `paint` module. Copy your classes from above into the module and implement paint functions. Implement a `CompoundShape` class. Create a simple drawing demonstrating that all of your classes are working."
   ]
  },
  {
   "cell_type": "code",
   "execution_count": null,
   "metadata": {},
   "outputs": [],
   "source": [
    "import Canvas as c\n",
    "class Paint:\n",
    "    def __init__(self,canvas):\n",
    "        self.canvas = canvas\n",
    "\n",
    "    def draw_circle(self, center_x, center_y, radius, **kargs):\n",
    "        for x in range(center_x - radius, center_x + radius + 1):\n",
    "            for y in range(center_y - radius, center_y + radius + 1):\n",
    "                if (x - center_x) ** 2 + (y - center_y) ** 2 <= radius ** 2:\n",
    "                    self.canvas.set_pixel(x, y, **kargs)\n",
    "\n",
    "    def draw_rectangle(self, x1, y1, x2, y2, **kargs):\n",
    "        self.canvas.h_line(x1, y1, x2 - x1, **kargs)\n",
    "        self.canvas.h_line(x1, y2, x2 - x1, **kargs)\n",
    "        self.canvas.v_line(x1, y1, y2 - y1, **kargs)\n",
    "        self.canvas.v_line(x2, y1, y2 - y1, **kargs)\n",
    "\n",
    "class CompoundShape(c.Canvas):\n",
    "    def __init__(self, canvas):\n",
    "        super().__init__(canvas.width, canvas.height)\n",
    "        self.shapes = []\n",
    "\n",
    "    def add_shape(self, shape):\n",
    "        self.shapes.append(shape)\n",
    "\n",
    "    def display(self):\n",
    "        for shape in self.shapes:\n",
    "            shape.display()"
   ]
  },
  {
   "cell_type": "markdown",
   "metadata": {},
   "source": [
    "11. Create a `RasterDrawing` class. Demonstrate that you can create a drawing made of several shapes, paint the drawing, modify the drawing, and paint it again. "
   ]
  },
  {
   "cell_type": "code",
   "execution_count": 48,
   "metadata": {},
   "outputs": [
    {
     "ename": "NameError",
     "evalue": "name 'Canvas' is not defined",
     "output_type": "error",
     "traceback": [
      "\u001b[0;31m---------------------------------------------------------------------------\u001b[0m",
      "\u001b[0;31mNameError\u001b[0m                                 Traceback (most recent call last)",
      "Cell \u001b[0;32mIn[48], line 26\u001b[0m\n\u001b[1;32m     23\u001b[0m \u001b[38;5;66;03m# Example usage:\u001b[39;00m\n\u001b[1;32m     24\u001b[0m \u001b[38;5;28;01mif\u001b[39;00m \u001b[38;5;18m__name__\u001b[39m \u001b[38;5;241m==\u001b[39m \u001b[38;5;124m\"\u001b[39m\u001b[38;5;124m__main__\u001b[39m\u001b[38;5;124m\"\u001b[39m:\n\u001b[1;32m     25\u001b[0m     \u001b[38;5;66;03m# Create a RasterDrawing instance\u001b[39;00m\n\u001b[0;32m---> 26\u001b[0m     drawing \u001b[38;5;241m=\u001b[39m RasterDrawing(\u001b[38;5;241m20\u001b[39m, \u001b[38;5;241m20\u001b[39m)\n\u001b[1;32m     28\u001b[0m     \u001b[38;5;66;03m# Add shapes to the drawing\u001b[39;00m\n\u001b[1;32m     29\u001b[0m     rectangle \u001b[38;5;241m=\u001b[39m Rectangle(\u001b[38;5;241m8\u001b[39m, \u001b[38;5;241m5\u001b[39m, \u001b[38;5;241m2\u001b[39m, \u001b[38;5;241m2\u001b[39m)\n",
      "Cell \u001b[0;32mIn[48], line 3\u001b[0m, in \u001b[0;36mRasterDrawing.__init__\u001b[0;34m(self, canvas_width, canvas_height)\u001b[0m\n\u001b[1;32m      2\u001b[0m \u001b[38;5;28;01mdef\u001b[39;00m \u001b[38;5;21m__init__\u001b[39m(\u001b[38;5;28mself\u001b[39m, canvas_width, canvas_height):\n\u001b[0;32m----> 3\u001b[0m     \u001b[38;5;28mself\u001b[39m\u001b[38;5;241m.\u001b[39mcanvas \u001b[38;5;241m=\u001b[39m Canvas(canvas_width, canvas_height)\n\u001b[1;32m      4\u001b[0m     \u001b[38;5;28mself\u001b[39m\u001b[38;5;241m.\u001b[39mshapes \u001b[38;5;241m=\u001b[39m []\n",
      "\u001b[0;31mNameError\u001b[0m: name 'Canvas' is not defined"
     ]
    }
   ],
   "source": [
    "class RasterDrawing:\n",
    "    def __init__(self, canvas_width, canvas_height):\n",
    "        self.canvas = Canvas(canvas_width, canvas_height)\n",
    "        self.shapes = []\n",
    "\n",
    "    def add_shape(self, shape):\n",
    "        self.shapes.append(shape)\n",
    "\n",
    "    def paint(self):\n",
    "        self.canvas = Canvas(self.canvas.width, self.canvas.height)\n",
    "        for shape in self.shapes:\n",
    "            self.draw_shape(shape)\n",
    "\n",
    "    def draw_shape(self, shape):\n",
    "        parameter_points = shape.get_parameter_points()\n",
    "        for x, y in parameter_points:\n",
    "            if 0 <= x < self.canvas.width and 0 <= y < self.canvas.height:\n",
    "                self.canvas.set_pixel(int(y), int(x))\n",
    "\n",
    "    def display(self):\n",
    "        self.canvas.display()\n",
    "\n",
    "# Example usage:\n",
    "if __name__ == \"__main__\":\n",
    "    # Create a RasterDrawing instance\n",
    "    drawing = RasterDrawing(20, 20)\n",
    "\n",
    "    # Add shapes to the drawing\n",
    "    rectangle = Rectangle(8, 5, 2, 2)\n",
    "    circle = Circle(4, 10, 10)\n",
    "    triangle = Triangle(5, 5, 7, 3, 3, 6, 3, 3, 6)\n",
    "    drawing.add_shape(rectangle)\n",
    "    drawing.add_shape(circle)\n",
    "    drawing.add_shape(triangle)\n",
    "\n",
    "    # Paint the drawing\n",
    "    print(\"Original Drawing:\")\n",
    "    drawing.paint()\n",
    "    drawing.display()\n",
    "\n",
    "    # Modify the drawing (add more shapes)\n",
    "    rectangle2 = Rectangle(5, 3, 15, 5)\n",
    "    circle2 = Circle(3, 5, 15)\n",
    "    drawing.add_shape(rectangle2)\n",
    "    drawing.add_shape(circle2)\n",
    "\n",
    "    # Paint the modified drawing\n",
    "    print(\"\\nModified Drawing:\")\n",
    "    drawing.paint()\n",
    "    drawing.display()\n"
   ]
  },
  {
   "cell_type": "markdown",
   "metadata": {},
   "source": [
    "12. Implement the ability to load/save raster drawings and demonstate that your method works. One way to implement this ability:\n",
    "\n",
    "   * Overload `__repr__` functions of all objects to return strings of the python code that would construct the object.\n",
    "   \n",
    "   * In the save method of raster drawing class, store the representations into the file.\n",
    "   * Write a loader function that reads the file and uses `eval` to instantiate the object.\n",
    "\n",
    "For example:"
   ]
  },
  {
   "cell_type": "code",
   "execution_count": 50,
   "metadata": {},
   "outputs": [],
   "source": [
    "class foo:\n",
    "    def __init__(self,a,b=None):\n",
    "        self.a=a\n",
    "        self.b=b\n",
    "        \n",
    "    def __repr__(self):\n",
    "        return \"foo(\"+repr(self.a)+\",\"+repr(self.b)+\")\"\n",
    "    \n",
    "    def save(self,filename):\n",
    "        f=open(filename,\"w\")\n",
    "        f.write(self.__repr__())\n",
    "        f.close()\n",
    "        \n",
    "   \n",
    "def foo_loader(filename):\n",
    "    f=open(filename,\"r\")\n",
    "    tmp=eval(f.read())\n",
    "    f.close()\n",
    "    return tmp\n"
   ]
  },
  {
   "cell_type": "code",
   "execution_count": 51,
   "metadata": {},
   "outputs": [
    {
     "name": "stdout",
     "output_type": "stream",
     "text": [
      "foo(1,'hello')\n"
     ]
    }
   ],
   "source": [
    "# Test\n",
    "print(repr(foo(1,\"hello\")))"
   ]
  },
  {
   "cell_type": "code",
   "execution_count": 52,
   "metadata": {},
   "outputs": [],
   "source": [
    "# Create an object and save it\n",
    "ff=foo(1,\"hello\")\n",
    "ff.save(\"Test.foo\")"
   ]
  },
  {
   "cell_type": "code",
   "execution_count": 53,
   "metadata": {},
   "outputs": [
    {
     "name": "stdout",
     "output_type": "stream",
     "text": [
      "foo(1,'hello')"
     ]
    }
   ],
   "source": [
    "# Check contents of the saved file\n",
    "!cat Test.foo"
   ]
  },
  {
   "cell_type": "code",
   "execution_count": 54,
   "metadata": {},
   "outputs": [
    {
     "data": {
      "text/plain": [
       "foo(1,'hello')"
      ]
     },
     "execution_count": 54,
     "metadata": {},
     "output_type": "execute_result"
    }
   ],
   "source": [
    "# Load the object\n",
    "ff_reloaded=foo_loader(\"Test.foo\")\n",
    "ff_reloaded"
   ]
  },
  {
   "cell_type": "code",
   "execution_count": null,
   "metadata": {},
   "outputs": [],
   "source": [
    "class RasterDrawing:\n",
    "    def __init__(self, width, height):\n",
    "        self.width = width\n",
    "        self.height = height\n",
    "        self.canvas = [[' ' for _ in range(width)] for _ in range(height)]\n",
    "\n",
    "    def draw_point(self, x, y, char='*'):\n",
    "        if 0 <= x < self.width and 0 <= y < self.height:\n",
    "            self.canvas[y][x] = char\n",
    "\n",
    "    def draw_line(self, x1, y1, x2, y2, char='*'):\n",
    "        # Bresenham's line algorithm\n",
    "        dx = abs(x2 - x1)\n",
    "        dy = abs(y2 - y1)\n",
    "        sx = 1 if x1 < x2 else -1\n",
    "        sy = 1 if y1 < y2 else -1\n",
    "        err = dx - dy\n",
    "\n",
    "        while True:\n",
    "            self.draw_point(x1, y1, char)\n",
    "            if x1 == x2 and y1 == y2:\n",
    "                break\n",
    "            e2 = 2 * err\n",
    "            if e2 > -dy:\n",
    "                err -= dy\n",
    "                x1 += sx\n",
    "            if e2 < dx:\n",
    "                err += dx\n",
    "                y1 += sy\n",
    "\n",
    "    def draw_rectangle(self, x1, y1, x2, y2, char='*'):\n",
    "        self.draw_line(x1, y1, x2, y1, char)\n",
    "        self.draw_line(x1, y1, x1, y2, char)\n",
    "        self.draw_line(x2, y1, x2, y2, char)\n",
    "        self.draw_line(x1, y2, x2, y2, char)\n",
    "\n",
    "    def draw_circle(self, cx, cy, r, char='*'):\n",
    "        x = r\n",
    "        y = 0\n",
    "        err = 0\n",
    "\n",
    "        while x >= y:\n",
    "            self.draw_point(cx + x, cy + y, char)\n",
    "            self.draw_point(cx + y, cy + x, char)\n",
    "            self.draw_point(cx - y, cy + x, char)\n",
    "            self.draw_point(cx - x, cy + y, char)\n",
    "            self.draw_point(cx - x, cy - y, char)\n",
    "            self.draw_point(cx - y, cy - x, char)\n",
    "            self.draw_point(cx + y, cy - x, char)\n",
    "            self.draw_point(cx + x, cy - y, char)\n",
    "\n",
    "            if err <= 0:\n",
    "                y += 1\n",
    "                err += 2 * y + 1\n",
    "            if err > 0:\n",
    "                x -= 1\n",
    "                err -= 2 * x + 1\n",
    "\n",
    "    def display(self):\n",
    "        for row in self.canvas:\n",
    "            print(''.join(row))\n",
    "\n",
    "    def __repr__(self):\n",
    "        return f\"RasterDrawing({self.width}, {self.height})\"\n",
    "\n",
    "class CompoundShape:\n",
    "    def __init__(self):\n",
    "        self.shapes = []\n",
    "\n",
    "    def add_shape(self, shape):\n",
    "        self.shapes.append(shape)\n",
    "\n",
    "    def draw(self, canvas):\n",
    "        for shape in self.shapes:\n",
    "            shape.draw(canvas)\n",
    "\n",
    "    def __repr__(self):\n",
    "        return f\"CompoundShape({', '.join([repr(shape) for shape in self.shapes])})\"\n",
    "\n",
    "class Rectangle(CompoundShape):\n",
    "    def __init__(self, x1, y1, x2, y2):\n",
    "        super().__init__()\n",
    "        self.x1 = x1\n",
    "        self.y1 = y1\n",
    "        self.x2 = x2\n",
    "        self.y2 = y2\n",
    "\n",
    "    def draw(self, canvas):\n",
    "        canvas.draw_rectangle(self.x1, self.y1, self.x2, self.y2)\n",
    "\n",
    "    def __repr__(self):\n",
    "        return f\"Rectangle({self.x1}, {self.y1}, {self.x2}, {self.y2})\"\n",
    "\n",
    "class Circle(CompoundShape):\n",
    "    def __init__(self, cx, cy, r):\n",
    "        super().__init__()\n",
    "        self.cx = cx\n",
    "        self.cy = cy\n",
    "        self.r = r\n",
    "\n",
    "    def draw(self, canvas):\n",
    "        canvas.draw_circle(self.cx, self.cy, self.r)\n",
    "\n",
    "    def __repr__(self):\n",
    "        return f\"Circle({self.cx}, {self.cy}, {self.r})\""
   ]
  },
  {
   "cell_type": "code",
   "execution_count": null,
   "metadata": {},
   "outputs": [],
   "source": [
    "if name == 'main':\n",
    "# Create a drawing\n",
    "drawing = RasterDrawing(20, 10)\n",
    "\n",
    "# Add shapes to the drawing\n",
    "compound_shape = CompoundShape()\n",
    "compound_shape.add_shape(Rectangle(2, 2, 18, 8))\n",
    "compound_shape.add_shape(Circle(10, 5, 4))\n",
    "\n",
    "# Paint the drawing\n",
    "compound_shape.draw(drawing)\n",
    "drawing.display()\n",
    "\n",
    "# Save the drawing to a file\n",
    "with open('drawing.txt', 'w') as f:\n",
    "    f.write(repr(drawing))\n",
    "\n",
    "# Load the drawing from the file\n",
    "with open('drawing.txt', 'r') as f:\n",
    "    drawing = eval(f.read())\n",
    "\n",
    "# Paint the loaded drawing\n",
    "drawing.display()\n",
    "\n",
    "# Modify the drawing by moving the circle\n",
    "compound_shape.shapes[1].cx += 5\n",
    "\n",
    "# Paint the modified drawing\n",
    "drawing.canvas = [[' ' for _ in range(drawing.width)] for _ in range(drawing.height)]\n",
    "compound_shape.draw(drawing)\n",
    "drawing.display()"
   ]
  }
 ],
 "metadata": {
  "kernelspec": {
   "display_name": "Python 3 (ipykernel)",
   "language": "python",
   "name": "python3"
  },
  "language_info": {
   "codemirror_mode": {
    "name": "ipython",
    "version": 3
   },
   "file_extension": ".py",
   "mimetype": "text/x-python",
   "name": "python",
   "nbconvert_exporter": "python",
   "pygments_lexer": "ipython3",
   "version": "3.11.4"
  }
 },
 "nbformat": 4,
 "nbformat_minor": 2
}
