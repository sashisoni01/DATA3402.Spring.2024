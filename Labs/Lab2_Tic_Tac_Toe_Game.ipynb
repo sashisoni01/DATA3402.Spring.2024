{
 "cells": [
  {
   "cell_type": "markdown",
   "metadata": {},
   "source": [
    "## Lab 2- Tic Tac Toe\n",
    "\n",
    "In this lab your will build a n x n Tic Tac Toe game. As you do the exercises, make sure your solutions work for any size Tic Tac Toe game. "
   ]
  },
  {
   "cell_type": "markdown",
   "metadata": {},
   "source": [
    "*Exercise 1:* Write a function that creates an n by n matrix (of list of lists) which will represent the state of a Tie Tac Toe game. Let 0, 1, and 2 represent empty, \"X\", and \"O\", respectively.\n"
   ]
  },
  {
   "cell_type": "code",
   "execution_count": 20,
   "metadata": {},
   "outputs": [],
   "source": [
    "# Write you solution here\n",
    "def create_tic_tac_toe_board(n):\n",
    "    \n",
    "    #initialize an empty board with zeros\n",
    "    board=[[0]*n for _ in range(n)]\n",
    "    \n",
    "    return board\n",
    "\n"
   ]
  },
  {
   "cell_type": "code",
   "execution_count": 21,
   "metadata": {},
   "outputs": [
    {
     "name": "stdout",
     "output_type": "stream",
     "text": [
      "[[0, 0, 0], [0, 0, 0], [0, 0, 0]]\n"
     ]
    }
   ],
   "source": [
    "# Test your solution\n",
    "n=3\n",
    "tic_tac_toe_board=create_tic_tac_toe_board(n)\n",
    "print(tic_tac_toe_board)"
   ]
  },
  {
   "cell_type": "markdown",
   "metadata": {},
   "source": [
    "*Exercise 2:* Write a function that takes 2 integers `n` and `m` as input and draws a `n` by `m` game board. For example the following is a 3x3 board:\n",
    "```\n",
    "   --- --- --- \n",
    "  |   |   |   | \n",
    "   --- --- ---  \n",
    "  |   |   |   | \n",
    "   --- --- ---  \n",
    "  |   |   |   | \n",
    "   --- --- --- \n",
    "   ```"
   ]
  },
  {
   "cell_type": "code",
   "execution_count": 22,
   "metadata": {},
   "outputs": [],
   "source": [
    "# Write you solution here\n",
    "\n",
    "def draw_game_board(n, m):\n",
    "    for i in range(n):\n",
    "        # Draw horizontal line\n",
    "        print(\" ---\" * m)\n",
    "        \n",
    "        # Draw vertical lines with placeholders\n",
    "        print(\"|   \" * (m + 1))\n",
    "\n",
    "    # Draw the bottom horizontal line to complete the board\n",
    "    print(\" ---\" * m)\n",
    "\n"
   ]
  },
  {
   "cell_type": "code",
   "execution_count": 23,
   "metadata": {},
   "outputs": [
    {
     "name": "stdout",
     "output_type": "stream",
     "text": [
      " --- --- ---\n",
      "|   |   |   |   \n",
      " --- --- ---\n",
      "|   |   |   |   \n",
      " --- --- ---\n",
      "|   |   |   |   \n",
      " --- --- ---\n"
     ]
    }
   ],
   "source": [
    "# Test your solution here\n",
    "draw_game_board(3, 3)"
   ]
  },
  {
   "cell_type": "markdown",
   "metadata": {},
   "source": [
    "*Exercise 3:* Modify exercise 2, so that it takes a matrix of the form from exercise 1 and draws a tic-tac-tie board with \"X\"s and \"O\"s.  "
   ]
  },
  {
   "cell_type": "code",
   "execution_count": 24,
   "metadata": {},
   "outputs": [],
   "source": [
    "# wirte your solution\n",
    "def draw_tic_tac_toe_board(board):\n",
    "\n",
    "    n = len(board)\n",
    "    m = len(board[0]) if board else 0\n",
    "\n",
    "    # Draw the Tic Tac Toe board\n",
    "    for i in range(n):\n",
    "        # Print horizontal line\n",
    "        print(\" ---\" * m)\n",
    "        \n",
    "        # Print vertical lines with cells containing \"X\", \"O\", or empty\n",
    "        for j in range(m):\n",
    "            print(f\"| {board[i][j]} \", end=\"\")\n",
    "        print(\"|\")\n",
    "        \n",
    "    # Print the bottom horizontal line\n",
    "    print(\" ---\" * m)\n",
    "\n",
    "\n"
   ]
  },
  {
   "cell_type": "code",
   "execution_count": 25,
   "metadata": {},
   "outputs": [
    {
     "name": "stdout",
     "output_type": "stream",
     "text": [
      " --- --- ---\n",
      "| O | X | O |\n",
      " --- --- ---\n",
      "| X | O | X |\n",
      " --- --- ---\n",
      "| O | X | O |\n",
      " --- --- ---\n"
     ]
    }
   ],
   "source": [
    "# Test your solution here\n",
    "board = [\n",
    "    [\"O\", \"X\", \"O\"],\n",
    "    [\"X\", \"O\", \"X\"],\n",
    "    [\"O\", \"X\", \"O\"]\n",
    "]\n",
    "draw_tic_tac_toe_board(board)\n"
   ]
  },
  {
   "cell_type": "markdown",
   "metadata": {},
   "source": [
    "*Exercise 4:* Write a function that takes a `n` by `n` matrix representing a tic-tac-toe game, and returns -1, 0, 1, or 2 indicating the game is incomplete, the game is a draw, player 1 has won, or player 2 has one, respectively. Here are some example inputs you can use to test your code:"
   ]
  },
  {
   "cell_type": "code",
   "execution_count": 27,
   "metadata": {},
   "outputs": [],
   "source": [
    "# Write you solution here\n",
    "def check_winner(board):\n",
    "    n = len(board)\n",
    "\n",
    "    # Check rows and columns\n",
    "    for i in range(n):\n",
    "        # Check rows\n",
    "        if board[i][0] == board[i][1] == board[i][2] != 0:\n",
    "            return board[i][0]\n",
    "        # Check columns\n",
    "        if board[0][i] == board[1][i] == board[2][i] != 0:\n",
    "            return board[0][i]\n",
    "\n",
    "    # Check diagonals\n",
    "    if board[0][0] == board[1][1] == board[2][2] != 0:\n",
    "        return board[0][0]\n",
    "    if board[0][2] == board[1][1] == board[2][0] != 0:\n",
    "        return board[0][2]\n",
    "\n",
    "    # Check for incomplete game\n",
    "    for i in range(n):\n",
    "        for j in range(n):\n",
    "            if board[i][j] == 0:\n",
    "                return -1  # Incomplete game\n",
    "\n",
    "    # If no winner and no empty cells, it's a draw\n",
    "    return 0  # Draw\n"
   ]
  },
  {
   "cell_type": "code",
   "execution_count": 28,
   "metadata": {},
   "outputs": [
    {
     "name": "stdout",
     "output_type": "stream",
     "text": [
      "1\n",
      "2\n",
      "1\n"
     ]
    }
   ],
   "source": [
    "# Test your solution here\n",
    "board1 = [\n",
    "    [1, 1, 1],\n",
    "    [2, 2, 0],\n",
    "    [0, 0, 0]\n",
    "]\n",
    "\n",
    "board2 = [\n",
    "    [1, 2, 1],\n",
    "    [2, 2, 1],\n",
    "    [1, 2, 1]\n",
    "]\n",
    "\n",
    "board3 = [\n",
    "    [1, 2, 1],\n",
    "    [2, 1, 2],\n",
    "    [1, 2, 1]\n",
    "]\n",
    "\n",
    "# Test the function\n",
    "print(check_winner(board1))  # Player 1 win\n",
    "print(check_winner(board2))  # Player 1 win\n",
    "print(check_winner(board3))  # Draw"
   ]
  },
  {
   "cell_type": "code",
   "execution_count": 30,
   "metadata": {},
   "outputs": [],
   "source": [
    "winner_is_2 = [[2, 2, 0],\n",
    "\t[2, 1, 0],\n",
    "\t[2, 1, 1]]\n",
    "\n",
    "winner_is_1 = [[1, 2, 0],\n",
    "\t[2, 1, 0],\n",
    "\t[2, 1, 1]]\n",
    "\n",
    "winner_is_also_1 = [[0, 1, 0],\n",
    "\t[2, 1, 0],\n",
    "\t[2, 1, 1]]\n",
    "\n",
    "no_winner = [[1, 2, 0],\n",
    "\t[2, 1, 0],\n",
    "\t[2, 1, 2]]\n",
    "\n",
    "also_no_winner = [[1, 2, 0],\n",
    "\t[2, 1, 0],\n",
    "\t[2, 1, 0]]"
   ]
  },
  {
   "cell_type": "markdown",
   "metadata": {},
   "source": [
    "*Exercise 5:* Write a function that takes a game board, player number, and `(x,y)` coordinates and places \"X\" or \"O\" in the correct location of the game board. Make sure that you only allow filling previously empty locations. Return `True` or `False` to indicate successful placement of \"X\" or \"O\"."
   ]
  },
  {
   "cell_type": "code",
   "execution_count": 31,
   "metadata": {},
   "outputs": [],
   "source": [
    "# Write you solution here\n",
    "def place_symbol(board, player, x, y):\n",
    "\n",
    "    # Check if the specified coordinates are within the bounds of the board\n",
    "    if x < 0 or x >= len(board) or y < 0 or y >= len(board[0]):\n",
    "        return False\n",
    "    \n",
    "    # Check if the specified location is already occupied\n",
    "    if board[x][y] != 0:\n",
    "        return False\n",
    "    \n",
    "    # Place the symbol for the specified player at the specified location\n",
    "    board[x][y] = player\n",
    "    return True\n",
    "\n"
   ]
  },
  {
   "cell_type": "code",
   "execution_count": 32,
   "metadata": {},
   "outputs": [
    {
     "name": "stdout",
     "output_type": "stream",
     "text": [
      "True\n",
      "[[0, 1, 0], [0, 0, 0], [0, 0, 0]]\n"
     ]
    }
   ],
   "source": [
    "# Test your solution here\n",
    "\n",
    "board = [\n",
    "    [0, 0, 0],\n",
    "    [0, 0, 0],\n",
    "    [0, 0, 0]\n",
    "]\n",
    "player = 1\n",
    "x = 0\n",
    "y = 1\n",
    "print(place_symbol(board, player, x, y))  # Should return True\n",
    "print(board)"
   ]
  },
  {
   "cell_type": "markdown",
   "metadata": {},
   "source": [
    "*Exercise 6:* Modify Exercise 4 to show column and row labels so that players can specify location using \"A2\" or \"C1\"."
   ]
  },
  {
   "cell_type": "code",
   "execution_count": 35,
   "metadata": {},
   "outputs": [],
   "source": [
    "def check_winner(board):\n",
    "    n = len(board)\n",
    "\n",
    "    # Check rows and columns\n",
    "    for i in range(n):\n",
    "        # Check rows\n",
    "        if board[i][0] == board[i][1] == board[i][2] != 0:\n",
    "            return board[i][0]\n",
    "        # Check columns\n",
    "        if board[0][i] == board[1][i] == board[2][i] != 0:\n",
    "            return board[0][i]\n",
    "\n",
    "    # Check diagonals\n",
    "    if board[0][0] == board[1][1] == board[2][2] != 0:\n",
    "        return board[0][0]\n",
    "    if board[0][2] == board[1][1] == board[2][0] != 0:\n",
    "        return board[0][2]\n",
    "\n",
    "    # Check for incomplete game\n",
    "    for i in range(n):\n",
    "        for j in range(n):\n",
    "            if board[i][j] == 0:\n",
    "                return -1  # Incomplete game\n",
    "\n",
    "    # If no winner and no empty cells, it's a draw\n",
    "    return 0  # Draw\n",
    "\n",
    "\n",
    "def place_symbol(board, player, position):\n",
    "    \n",
    "    # Mapping of column labels to indices\n",
    "    col_map = {'A': 0, 'B': 1, 'C': 2}\n",
    "\n",
    "    # Convert position to row and column indices\n",
    "    row = int(position[1]) - 1\n",
    "    col = col_map[position[0].upper()]\n",
    "\n",
    "    # Check if the specified location is already occupied\n",
    "    if board[row][col] != 0:\n",
    "        return False\n",
    "\n",
    "    # Place the symbol for the specified player at the specified location\n",
    "    board[row][col] = player\n",
    "    return True\n",
    "\n",
    "def draw_tic_tac_toe_board(board):\n",
    "\n",
    "    n = len(board)\n",
    "\n",
    "    # Print column labels\n",
    "    print(\"  A   B   C\")\n",
    "\n",
    "    # Draw the Tic Tac Toe board\n",
    "    for i in range(n):\n",
    "        # Print horizontal line\n",
    "        print(\" ---\" * n)\n",
    "        \n",
    "        # Print vertical lines with cells containing \"X\", \"O\", or empty\n",
    "        for j in range(n):\n",
    "            print(f\"| {board[i][j]} \", end=\"\")\n",
    "        print(f\"| {i + 1}\")  # Print row label\n",
    "    print(\" ---\" * n)\n"
   ]
  },
  {
   "cell_type": "code",
   "execution_count": 36,
   "metadata": {},
   "outputs": [
    {
     "name": "stdout",
     "output_type": "stream",
     "text": [
      "True\n",
      "  A   B   C\n",
      " --- --- ---\n",
      "| 0 | 0 | 0 | 1\n",
      " --- --- ---\n",
      "| 0 | 1 | 0 | 2\n",
      " --- --- ---\n",
      "| 0 | 0 | 0 | 3\n",
      " --- --- ---\n"
     ]
    }
   ],
   "source": [
    "# Test your solution here\n",
    "\n",
    "board = [\n",
    "    [0, 0, 0],\n",
    "    [0, 0, 0],\n",
    "    [0, 0, 0]\n",
    "]\n",
    "player = 1\n",
    "position = \"B2\"\n",
    "print(place_symbol(board, player, position))  # Should return True\n",
    "draw_tic_tac_toe_board(board)\n"
   ]
  },
  {
   "cell_type": "markdown",
   "metadata": {},
   "source": [
    "*Exercise 7:* Write a function that takes a board, player number, and location specified as in exercise 6 and then calls exercise 5 to correctly modify the board.  "
   ]
  },
  {
   "cell_type": "code",
   "execution_count": 41,
   "metadata": {},
   "outputs": [],
   "source": [
    "# Write you solution here\n",
    "def modify_board(board, player, position):\n",
    "\n",
    "    # Convert position to row and column indices\n",
    "    row_map = {'A': 0, 'B': 1, 'C': 2}\n",
    "    col_map = {'1': 0, '2': 1, '3': 2}\n",
    "\n",
    "    row = row_map.get(position[0].upper())\n",
    "    col = col_map.get(position[1])\n",
    "\n",
    "    # Call place_symbol function from Exercise 5 to modify the board\n",
    "    return place_symbol(board, player, position)\n",
    "\n"
   ]
  },
  {
   "cell_type": "code",
   "execution_count": 42,
   "metadata": {},
   "outputs": [
    {
     "name": "stdout",
     "output_type": "stream",
     "text": [
      "True\n"
     ]
    }
   ],
   "source": [
    "# Test your solution here\n",
    "board = [\n",
    "    [0, 0, 0],\n",
    "    [0, 0, 0],\n",
    "    [0, 0, 0]\n",
    "]\n",
    "\n",
    "# Player 1 places symbol at position \"A2\"\n",
    "player = 1\n",
    "position = \"A2\"\n",
    "print(modify_board(board, player, position))  # Should return True\n"
   ]
  },
  {
   "cell_type": "markdown",
   "metadata": {},
   "source": [
    "*Exercise 8:* Write a function is called with a board and player number, takes input from the player using python's `input`, and modifies the board using your function from exercise 7. Note that you should keep asking for input until you have gotten a valid input that results in a valid move."
   ]
  },
  {
   "cell_type": "code",
   "execution_count": 43,
   "metadata": {},
   "outputs": [],
   "source": [
    "# Write you solution here\n",
    "def get_valid_input(board, player):\n",
    "\n",
    "    while True:\n",
    "        # Prompt the player for input\n",
    "        position = input(f\"Player {player}, enter the move (e.g., A2): \").strip().upper()\n",
    "\n",
    "        # Check if input format is valid\n",
    "        if len(position) != 2 or position[0] not in 'ABC' or position[1] not in '123':\n",
    "            print(\"Invalid input format. Please enter a valid position (e.g., A2, B1, C3).\")\n",
    "            continue\n",
    "\n",
    "        # Convert position to row and column indices\n",
    "        row_map = {'A': 0, 'B': 1, 'C': 2}\n",
    "        col_map = {'1': 0, '2': 1, '3': 2}\n",
    "\n",
    "        row = row_map[position[0]]\n",
    "        col = col_map[position[1]]\n",
    "\n",
    "        # Check if the specified location is already occupied\n",
    "        if board[row][col] != 0:\n",
    "            print(\"Position is already occupied. Please choose another position.\")\n",
    "            continue\n",
    "\n",
    "        # Place the symbol for the specified player at the specified location\n",
    "        if modify_board(board, player, position):\n",
    "            break\n",
    "        else:\n",
    "            print(\"An error occurred. Please try again.\")\n"
   ]
  },
  {
   "cell_type": "code",
   "execution_count": 44,
   "metadata": {},
   "outputs": [
    {
     "name": "stdout",
     "output_type": "stream",
     "text": [
      "Player 1, enter the move (e.g., A2): A2\n",
      "[[0, 0, 0], [1, 0, 0], [0, 0, 0]]\n"
     ]
    }
   ],
   "source": [
    "# Test your solution here\n",
    "\n",
    "board = [\n",
    "    [0, 0, 0],\n",
    "    [0, 0, 0],\n",
    "    [0, 0, 0]\n",
    "]\n",
    "player = 1\n",
    "get_valid_input(board, player)\n",
    "print(board)  # Check if the board was modified correctly"
   ]
  },
  {
   "cell_type": "markdown",
   "metadata": {},
   "source": [
    "*Exercise 9:* Use all of the previous exercises to implement a full tic-tac-toe game, where an appropriate board is drawn, 2 players are repeatedly asked for a location coordinates of where they wish to place a mark, and the game status is checked until a player wins or a draw occurs."
   ]
  },
  {
   "cell_type": "code",
   "execution_count": 45,
   "metadata": {},
   "outputs": [],
   "source": [
    "# Write you solution here\n",
    "def draw_tic_tac_toe_board(board):\n",
    "    n = len(board)\n",
    "\n",
    "    # Draw the Tic Tac Toe board\n",
    "    for i in range(n):\n",
    "        # Print horizontal line\n",
    "        print(\" ---\" * n)\n",
    "        \n",
    "        # Print vertical lines with cells containing \"X\", \"O\", or empty\n",
    "        for j in range(n):\n",
    "            print(f\"| {board[i][j]} \", end=\"\")\n",
    "        print(\"|\")\n",
    "        \n",
    "    # Print the bottom horizontal line\n",
    "    print(\" ---\" * n)\n",
    "\n",
    "\n",
    "def check_winner(board):\n",
    "    n = len(board)\n",
    "\n",
    "    # Check rows and columns\n",
    "    for i in range(n):\n",
    "        # Check rows\n",
    "        if board[i][0] == board[i][1] == board[i][2] != 0:\n",
    "            return board[i][0]\n",
    "        # Check columns\n",
    "        if board[0][i] == board[1][i] == board[2][i] != 0:\n",
    "            return board[0][i]\n",
    "\n",
    "    # Check diagonals\n",
    "    if board[0][0] == board[1][1] == board[2][2] != 0:\n",
    "        return board[0][0]\n",
    "    if board[0][2] == board[1][1] == board[2][0] != 0:\n",
    "        return board[0][2]\n",
    "\n",
    "    # Check for incomplete game\n",
    "    for i in range(n):\n",
    "        for j in range(n):\n",
    "            if board[i][j] == 0:\n",
    "                return -1  # Incomplete game\n",
    "\n",
    "    # If no winner and no empty cells, it's a draw\n",
    "    return 0  # Draw\n",
    "\n",
    "\n",
    "def place_symbol(board, player, x, y):\n",
    "\n",
    "    # Check if the specified location is already occupied\n",
    "    if board[x][y] != 0:\n",
    "        return False\n",
    "    \n",
    "    # Place the symbol for the specified player at the specified location\n",
    "    board[x][y] = player\n",
    "    return True\n",
    "\n",
    "\n",
    "def get_valid_input(board, player):\n",
    "\n",
    "    while True:\n",
    "        # Prompt the player for input\n",
    "        position = input(f\"Player {player}, enter your move (e.g., A2): \").strip().upper()\n",
    "\n",
    "        # Check if input format is valid\n",
    "        if len(position) != 2 or position[0] not in 'ABC' or position[1] not in '123':\n",
    "            print(\"Invalid input format. Please enter a valid position (e.g., A2, B1, C3).\")\n",
    "            continue\n",
    "\n",
    "        # Convert position to row and column indices\n",
    "        row_map = {'A': 0, 'B': 1, 'C': 2}\n",
    "        col_map = {'1': 0, '2': 1, '3': 2}\n",
    "\n",
    "        row = row_map[position[0]]\n",
    "        col = col_map[position[1]]\n",
    "\n",
    "        # Place the symbol for the specified player at the specified location\n",
    "        if place_symbol(board, player, row, col):\n",
    "            break\n",
    "        else:\n",
    "            print(\"Position is already occupied. Please choose another position.\")\n",
    "\n",
    "\n",
    "def play_tic_tac_toe():\n",
    "\n",
    "    # Initialize the Tic Tac Toe board\n",
    "    board = [\n",
    "        [0, 0, 0],\n",
    "        [0, 0, 0],\n",
    "        [0, 0, 0]\n",
    "    ]\n",
    "    player = 1  # Player 1 starts the game\n",
    "\n",
    "    # Main game loop\n",
    "    while True:\n",
    "        # Draw the current state of the board\n",
    "        draw_tic_tac_toe_board(board)\n",
    "\n",
    "        # Prompt the current player for input\n",
    "        get_valid_input(board, player)\n",
    "\n",
    "        # Check if the game has been won or drawn\n",
    "        result = check_winner(board)\n",
    "        if result != -1:\n",
    "            # Game over\n",
    "            if result == 0:\n",
    "                print(\"It's a draw!\")\n",
    "            else:\n",
    "                print(f\"Player {result} wins!\")\n",
    "            break\n",
    "\n",
    "        # Switch to the next player\n",
    "        player = 3 - player  # Switch between player 1 and player 2 (1 -> 2, 2 -> 1)\n"
   ]
  },
  {
   "cell_type": "code",
   "execution_count": null,
   "metadata": {},
   "outputs": [
    {
     "name": "stdout",
     "output_type": "stream",
     "text": [
      " --- --- ---\n",
      "| 0 | 0 | 0 |\n",
      " --- --- ---\n",
      "| 0 | 0 | 0 |\n",
      " --- --- ---\n",
      "| 0 | 0 | 0 |\n",
      " --- --- ---\n",
      "Player 1, enter your move (e.g., A2): A2\n",
      " --- --- ---\n",
      "| 0 | 1 | 0 |\n",
      " --- --- ---\n",
      "| 0 | 0 | 0 |\n",
      " --- --- ---\n",
      "| 0 | 0 | 0 |\n",
      " --- --- ---\n",
      "Player 2, enter your move (e.g., A2): A1\n",
      " --- --- ---\n",
      "| 2 | 1 | 0 |\n",
      " --- --- ---\n",
      "| 0 | 0 | 0 |\n",
      " --- --- ---\n",
      "| 0 | 0 | 0 |\n",
      " --- --- ---\n",
      "Player 1, enter your move (e.g., A2): B1\n",
      " --- --- ---\n",
      "| 2 | 1 | 0 |\n",
      " --- --- ---\n",
      "| 1 | 0 | 0 |\n",
      " --- --- ---\n",
      "| 0 | 0 | 0 |\n",
      " --- --- ---\n",
      "Player 2, enter your move (e.g., A2): A3\n",
      " --- --- ---\n",
      "| 2 | 1 | 2 |\n",
      " --- --- ---\n",
      "| 1 | 0 | 0 |\n",
      " --- --- ---\n",
      "| 0 | 0 | 0 |\n",
      " --- --- ---\n",
      "Player 1, enter your move (e.g., A2): B1\n",
      "Position is already occupied. Please choose another position.\n",
      "Player 1, enter your move (e.g., A2): A3\n",
      "Position is already occupied. Please choose another position.\n",
      "Player 1, enter your move (e.g., A2): B1\n",
      "Position is already occupied. Please choose another position.\n",
      "Player 1, enter your move (e.g., A2): B2\n",
      " --- --- ---\n",
      "| 2 | 1 | 2 |\n",
      " --- --- ---\n",
      "| 1 | 1 | 0 |\n",
      " --- --- ---\n",
      "| 0 | 0 | 0 |\n",
      " --- --- ---\n",
      "Player 2, enter your move (e.g., A2): A1\n",
      "Position is already occupied. Please choose another position.\n",
      "Player 2, enter your move (e.g., A2): B3\n",
      " --- --- ---\n",
      "| 2 | 1 | 2 |\n",
      " --- --- ---\n",
      "| 1 | 1 | 2 |\n",
      " --- --- ---\n",
      "| 0 | 0 | 0 |\n",
      " --- --- ---\n",
      "Player 1, enter your move (e.g., A2): B2\n",
      "Position is already occupied. Please choose another position.\n",
      "Player 1, enter your move (e.g., A2): B3\n",
      "Position is already occupied. Please choose another position.\n",
      "Player 1, enter your move (e.g., A2): B0\n",
      "Invalid input format. Please enter a valid position (e.g., A2, B1, C3).\n"
     ]
    }
   ],
   "source": [
    "# Test your solution here\n",
    "\n",
    "\n",
    "# Start the Tic Tac Toe game\n",
    "play_tic_tac_toe()"
   ]
  },
  {
   "cell_type": "markdown",
   "metadata": {},
   "source": [
    "*Exercise 10:* Test that your game works for 5x5 Tic Tac Toe.  "
   ]
  },
  {
   "cell_type": "code",
   "execution_count": null,
   "metadata": {},
   "outputs": [],
   "source": [
    "# Test your solution here\n",
    "def play_tic_tac_toe():\n",
    "    # Initialize the Tic Tac Toe board\n",
    "    board = [\n",
    "        [0, 0, 0, 0, 0],\n",
    "        [0, 0, 0, 0, 0],\n",
    "        [0, 0, 0, 0, 0],\n",
    "        [0, 0, 0, 0, 0],\n",
    "        [0, 0, 0, 0, 0]\n",
    "    ]\n",
    "    player = 1  # Player 1 starts the game\n",
    "\n",
    "    # Main game loop\n",
    "    while True:\n",
    "        # Draw the current state of the board\n",
    "        draw_tic_tac_toe_board(board)\n",
    "\n",
    "        # Prompt the current player for input\n",
    "        get_valid_input(board, player)\n",
    "\n",
    "        # Check if the game has been won or drawn\n",
    "        result = check_winner(board)\n",
    "        if result != -1:\n",
    "            # Game over\n",
    "            if result == 0:\n",
    "                print(\"It's a draw!\")\n",
    "            else:\n",
    "                print(f\"Player {result} wins!\")\n",
    "            break\n",
    "\n",
    "        # Switch to the next player\n",
    "        player = 3 - player  # Switch between player 1 and player 2 (1 -> 2, 2 -> 1)\n",
    "\n"
   ]
  },
  {
   "cell_type": "code",
   "execution_count": null,
   "metadata": {},
   "outputs": [],
   "source": [
    "\n",
    "# Start the Tic Tac Toe game for a 5x5 board\n",
    "play_tic_tac_toe()"
   ]
  },
  {
   "cell_type": "markdown",
   "metadata": {},
   "source": [
    "*Exercise 11:* (Advanced / Challenge) Develop a version of the game where one player is the computer. Note that you don't need to do an extensive seach for the best move. You can have the computer simply protect against loosing and otherwise try to win with straight or diagonal patterns."
   ]
  },
  {
   "cell_type": "code",
   "execution_count": null,
   "metadata": {},
   "outputs": [],
   "source": [
    "# Write you solution here\n",
    "import random\n",
    "\n",
    "def computer_move(board, player):\n",
    "\n",
    "    # Check for winning moves or blocking opponent's winning moves\n",
    "    for i in range(len(board)):\n",
    "        for j in range(len(board[i])):\n",
    "            if board[i][j] == 0:\n",
    "                # Check if placing the player's symbol at this position results in a win\n",
    "                board[i][j] = player\n",
    "                if check_winner(board) == player:\n",
    "                    return i, j\n",
    "                board[i][j] = 0  # Undo the move\n",
    "\n",
    "                # Check if placing the opponent's symbol at this position results in a win\n",
    "                opponent = 3 - player\n",
    "                board[i][j] = opponent\n",
    "                if check_winner(board) == opponent:\n",
    "                    return i, j\n",
    "                board[i][j] = 0  # Undo the move\n",
    "    \n",
    "    # If no winning moves or blocking moves are available, make a random move\n",
    "    while True:\n",
    "        row = random.randint(0, len(board) - 1)\n",
    "        col = random.randint(0, len(board[0]) - 1)\n",
    "        if board[row][col] == 0:\n",
    "            return row, col\n",
    "\n",
    "def play_tic_tac_toe_vs_computer():\n",
    "\n",
    "    # Initialize the Tic Tac Toe board\n",
    "    board = [\n",
    "        [0, 0, 0],\n",
    "        [0, 0, 0],\n",
    "        [0, 0, 0]\n",
    "    ]\n",
    "    player = 1  # Human player starts the game\n",
    "\n",
    "    # Main game loop\n",
    "    while True:\n",
    "        # Draw the current state of the board\n",
    "        draw_tic_tac_toe_board(board)\n",
    "\n",
    "        if player == 1:\n",
    "            # Human player's turn\n",
    "            get_valid_input(board, player)\n",
    "        else:\n",
    "            # Computer player's turn\n",
    "            print(\"Computer's turn:\")\n",
    "            row, col = computer_move(board, player)\n",
    "            board[row][col] = player\n",
    "            print(f\"Computer placed 'O' at position {chr(row + ord('A'))}{col + 1}\")\n",
    "\n",
    "        # Check if the game has been won or drawn\n",
    "        result = check_winner(board)\n",
    "        if result != -1:\n",
    "            # Game over\n",
    "            if result == 0:\n",
    "                print(\"It's a draw!\")\n",
    "            elif result == 1:\n",
    "                print(\"You win!\")\n",
    "            else:\n",
    "                print(\"Computer wins!\")\n",
    "            break\n",
    "\n",
    "        # Switch to the next player\n",
    "        player = 3 - player  # Switch between player 1 and player 2 (1 -> 2, 2 -> 1)\n"
   ]
  },
  {
   "cell_type": "code",
   "execution_count": null,
   "metadata": {},
   "outputs": [],
   "source": [
    "# Test your solution here\n",
    "\n",
    "# Start the Tic Tac Toe game against the computer\n",
    "play_tic_tac_toe_vs_computer()\n",
    "\n"
   ]
  },
  {
   "cell_type": "code",
   "execution_count": null,
   "metadata": {
    "collapsed": true
   },
   "outputs": [],
   "source": []
  }
 ],
 "metadata": {
  "kernelspec": {
   "display_name": "Python 3 (ipykernel)",
   "language": "python",
   "name": "python3"
  },
  "language_info": {
   "codemirror_mode": {
    "name": "ipython",
    "version": 3
   },
   "file_extension": ".py",
   "mimetype": "text/x-python",
   "name": "python",
   "nbconvert_exporter": "python",
   "pygments_lexer": "ipython3",
   "version": "3.11.4"
  }
 },
 "nbformat": 4,
 "nbformat_minor": 2
}
