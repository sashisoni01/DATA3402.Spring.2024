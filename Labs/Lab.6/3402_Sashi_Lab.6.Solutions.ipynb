{
 "cells": [
  {
   "cell_type": "markdown",
   "metadata": {},
   "source": [
    "# Lab 6"
   ]
  },
  {
   "cell_type": "markdown",
   "metadata": {},
   "source": [
    "You are tasked with evaluating card counting strategies for black jack. In order to do so, you will use object oriented programming to create a playable casino style black jack game where a computer dealer plays against $n$ computer players and possibily one human player. If you don't know the rules of blackjack or card counting, please google it. \n",
    "\n",
    "A few requirements:\n",
    "* The game should utilize multiple 52-card decks. Typically the game is played with 6 decks.\n",
    "* Players should have chips.\n",
    "* Dealer's actions are predefined by rules of the game (typically hit on 16). \n",
    "* The players should be aware of all shown cards so that they can count cards.\n",
    "* Each player could have a different strategy.\n",
    "* The system should allow you to play large numbers of games, study the outcomes, and compare average winnings per hand rate for different strategies."
   ]
  },
  {
   "cell_type": "markdown",
   "metadata": {},
   "source": [
    "1. Begin by creating a classes to represent cards and decks. The deck should support more than one 52-card set. The deck should allow you to shuffle and draw cards. Include a \"plastic\" card, placed randomly in the deck. Later, when the plastic card is dealt, shuffle the cards before the next deal."
   ]
  },
  {
   "cell_type": "code",
   "execution_count": 3,
   "metadata": {},
   "outputs": [],
   "source": [
    "import random "
   ]
  },
  {
   "cell_type": "code",
   "execution_count": 4,
   "metadata": {
    "tags": []
   },
   "outputs": [],
   "source": [
    "\n",
    "class Card:\n",
    "    def __init__(self, suit, rank):\n",
    "        self.suit = suit\n",
    "        self.rank = rank\n",
    "\n",
    "    def __str__(self):\n",
    "        return f\"{self.rank} of {self.suit}\"\n",
    "\n",
    "class Deck:\n",
    "    def __init__(self, num_decks=1):\n",
    "        self.cards = []\n",
    "        for _ in range(num_decks):\n",
    "            for suit in [\"Hearts\", \"Diamonds\", \"Clubs\", \"Spades\"]:\n",
    "                for rank in range(1, 17):\n",
    "                    self.cards.append(Card(suit, rank))\n",
    "\n",
    "        self.cards.append(Card(\"Plastic\", 0))\n",
    "\n",
    "    def shuffle(self):\n",
    "        random.shuffle(self.cards)\n",
    "\n",
    "    def draw_card(self):\n",
    "        card = self.cards.pop()\n",
    "        if card.rank == 0:\n",
    "            self.shuffle()\n",
    "        return card    "
   ]
  },
  {
   "cell_type": "code",
   "execution_count": 5,
   "metadata": {
    "tags": []
   },
   "outputs": [
    {
     "name": "stdout",
     "output_type": "stream",
     "text": [
      "14 of Diamonds\n"
     ]
    }
   ],
   "source": [
    "# Create a deck\n",
    "deck = Deck()\n",
    "\n",
    "# Shuffle the deck\n",
    "deck.shuffle()\n",
    "\n",
    "# Draw a card\n",
    "card = deck.draw_card()\n",
    "\n",
    "# Print the card\n",
    "print(card)\n"
   ]
  },
  {
   "cell_type": "code",
   "execution_count": 6,
   "metadata": {
    "tags": []
   },
   "outputs": [
    {
     "name": "stdout",
     "output_type": "stream",
     "text": [
      "13 of Diamonds\n"
     ]
    }
   ],
   "source": [
    "# Create a deck\n",
    "deck = Deck()\n",
    "\n",
    "# Shuffle the deck\n",
    "deck.shuffle()\n",
    "\n",
    "# Draw a card\n",
    "card = deck.draw_card()\n",
    "\n",
    "# Print the card\n",
    "print(card)\n"
   ]
  },
  {
   "cell_type": "markdown",
   "metadata": {},
   "source": [
    "2. Now design your game on a UML diagram. You may want to create classes to represent, players, a hand, and/or the game. As you work through the lab, update your UML diagram. At the end of the lab, submit your diagram (as pdf file) along with your notebook. "
   ]
  },
  {
   "cell_type": "markdown",
   "metadata": {},
   "source": [
    "3. Begin with implementing the skeleton (ie define data members and methods/functions, but do not code the logic) of the classes in your UML diagram."
   ]
  },
  {
   "cell_type": "markdown",
   "metadata": {},
   "source": [
    "4. Complete the implementation by coding the logic of all functions. For now, just implement the dealer player and human player."
   ]
  },
  {
   "cell_type": "code",
   "execution_count": 7,
   "metadata": {
    "tags": []
   },
   "outputs": [],
   "source": [
    "class DealerPlayer:\n",
    "    def __init__(self):\n",
    "        self.hand = []\n",
    "\n",
    "    def draw_card(self, deck):\n",
    "        card = deck.draw_card()\n",
    "        self.hand.append(card)\n",
    "\n",
    "    def get_hand_value(self):\n",
    "        # Calculating the value of the hand, taking into account aces\n",
    "        value = 0\n",
    "        num_aces = 0\n",
    "        for card in self.hand:\n",
    "            if card.rank == 1:\n",
    "                num_aces += 1\n",
    "            else:\n",
    "                value += min(card.rank, 10)\n",
    "\n",
    "        # Adjusting the value based on the number of aces\n",
    "        if num_aces > 0:\n",
    "            if value + 11 + (num_aces - 1) <= 21:\n",
    "                value += 11 + (num_aces - 1)\n",
    "            else:\n",
    "                value += num_aces\n",
    "\n",
    "        return value\n",
    "\n",
    "    def show_hand(self):\n",
    "        # Print the hand\n",
    "        for card in self.hand:\n",
    "            print(card)\n",
    "\n",
    "\n",
    "class HumanPlayer:\n",
    "    def __init__(self):\n",
    "        self.hand = []\n",
    "\n",
    "    def draw_card(self, deck):\n",
    "        card = deck.draw_card()\n",
    "        self.hand.append(card)\n",
    "\n",
    "    def get_hand_value(self):\n",
    "        # Calculating the value of the hand, taking into account aces\n",
    "        value = 0\n",
    "        num_aces = 0\n",
    "        for card in self.hand:\n",
    "            if card.rank == 1:\n",
    "                num_aces += 1\n",
    "            else:\n",
    "                value += min(card.rank, 10)\n",
    "\n",
    "        # Adjusting the value based on the number of aces\n",
    "        if num_aces > 0:\n",
    "            if value + 11 + (num_aces - 1) <= 21:\n",
    "                value += 11 + (num_aces - 1)\n",
    "            else:\n",
    "                value += num_aces\n",
    "\n",
    "        return value\n",
    "\n",
    "    def show_hand(self):\n",
    "        # Print the hand\n",
    "        for card in self.hand:\n",
    "            print(card)\n",
    "\n",
    "    def make_bet(self):\n",
    "        # Getting the bet amount from the user\n",
    "        bet = int(input(\"Enter your bet: \"))\n",
    "        return bet\n",
    "\n",
    "    def hit_or_stand(self):\n",
    "        # Getting the user's choice of whether to hit or stand\n",
    "        choice = input(\"Hit or stand? (h/s): \")\n",
    "        return choice == \"h\"\n"
   ]
  },
  {
   "cell_type": "markdown",
   "metadata": {},
   "source": [
    "5.  Test. Demonstrate game play. For example, create a game of several dealer players and show that the game is functional through several rounds."
   ]
  },
  {
   "cell_type": "code",
   "execution_count": 8,
   "metadata": {
    "tags": []
   },
   "outputs": [
    {
     "name": "stdout",
     "output_type": "stream",
     "text": [
      "Dealer 1's hand:\n",
      "0 of Plastic\n",
      "?\n",
      "Dealer 2's hand:\n",
      "9 of Clubs\n",
      "?\n",
      "Dealer 3's hand:\n",
      "8 of Spades\n",
      "?\n",
      "Dealer 1's hand:\n",
      "0 of Plastic\n",
      "5 of Clubs\n",
      "4 of Diamonds\n",
      "Dealer 2's hand:\n",
      "9 of Clubs\n",
      "15 of Diamonds\n",
      "4 of Clubs\n",
      "Dealer 3's hand:\n",
      "8 of Spades\n",
      "15 of Clubs\n",
      "9 of Hearts\n",
      "Dealer 2 busts!\n",
      "Dealer 3 busts!\n",
      "Dealer 1's hand:\n",
      "0 of Plastic\n",
      "5 of Clubs\n",
      "4 of Diamonds\n",
      "16 of Hearts\n",
      "Dealer 2's hand:\n",
      "9 of Clubs\n",
      "15 of Diamonds\n",
      "4 of Clubs\n",
      "14 of Hearts\n",
      "Dealer 3's hand:\n",
      "8 of Spades\n",
      "15 of Clubs\n",
      "9 of Hearts\n",
      "5 of Hearts\n",
      "Dealer 2 busts!\n",
      "Dealer 3 busts!\n",
      "Dealer 1's hand:\n",
      "0 of Plastic\n",
      "5 of Clubs\n",
      "4 of Diamonds\n",
      "16 of Hearts\n",
      "12 of Spades\n",
      "Dealer 2's hand:\n",
      "9 of Clubs\n",
      "15 of Diamonds\n",
      "4 of Clubs\n",
      "14 of Hearts\n",
      "10 of Clubs\n",
      "Dealer 3's hand:\n",
      "8 of Spades\n",
      "15 of Clubs\n",
      "9 of Hearts\n",
      "5 of Hearts\n",
      "2 of Clubs\n",
      "Dealer 1 busts!\n",
      "Dealer 2 busts!\n",
      "Dealer 3 busts!\n",
      "It's a tie!\n"
     ]
    }
   ],
   "source": [
    "# Create a deck\n",
    "deck = Deck()\n",
    "\n",
    "# Create three dealer players\n",
    "dealer1 = DealerPlayer()\n",
    "dealer2 = DealerPlayer()\n",
    "dealer3 = DealerPlayer()\n",
    "\n",
    "# Deal two cards to each dealer player\n",
    "for _ in range(2):\n",
    "    dealer1.draw_card(deck)\n",
    "    dealer2.draw_card(deck)\n",
    "    dealer3.draw_card(deck)\n",
    "\n",
    "# Show each dealer player's hand (one card hidden)\n",
    "print(\"Dealer 1's hand:\")\n",
    "print(dealer1.hand[0])\n",
    "print(\"?\")\n",
    "\n",
    "print(\"Dealer 2's hand:\")\n",
    "print(dealer2.hand[0])\n",
    "print(\"?\")\n",
    "\n",
    "print(\"Dealer 3's hand:\")\n",
    "print(dealer3.hand[0])\n",
    "print(\"?\")\n",
    "\n",
    "# Play the game for several rounds\n",
    "for _ in range(3):\n",
    "    # Each dealer player draws a card\n",
    "    dealer1.draw_card(deck)\n",
    "    dealer2.draw_card(deck)\n",
    "    dealer3.draw_card(deck)\n",
    "\n",
    "    # Show each dealer player's hand\n",
    "    print(\"Dealer 1's hand:\")\n",
    "    dealer1.show_hand()\n",
    "\n",
    "    print(\"Dealer 2's hand:\")\n",
    "    dealer2.show_hand()\n",
    "\n",
    "    print(\"Dealer 3's hand:\")\n",
    "    dealer3.show_hand()\n",
    "\n",
    "    # Check if any dealer player has busted\n",
    "    if dealer1.get_hand_value() > 21:\n",
    "        print(\"Dealer 1 busts!\")\n",
    "    if dealer2.get_hand_value() > 21:\n",
    "        print(\"Dealer 2 busts!\")\n",
    "    if dealer3.get_hand_value() > 21:\n",
    "        print(\"Dealer 3 busts!\")\n",
    "\n",
    "# Determine the winner\n",
    "winner = None\n",
    "winning_value = 0\n",
    "for dealer in [dealer1, dealer2, dealer3]:\n",
    "    hand_value = dealer.get_hand_value()\n",
    "    if hand_value > winning_value and hand_value <= 21:\n",
    "        winner = dealer\n",
    "        winning_value = hand_value\n",
    "\n",
    "if winner:\n",
    "    print(f\"Dealer {winner} wins!\")\n",
    "else:\n",
    "    print(\"It's a tie!\")\n"
   ]
  },
  {
   "cell_type": "markdown",
   "metadata": {},
   "source": [
    "6. Implement a new player with the following strategy:\n",
    "\n",
    "    * Assign each card a value: \n",
    "        * Cards 2 to 6 are +1 \n",
    "        * Cards 7 to 9 are 0 \n",
    "        * Cards 10 through Ace are -1\n",
    "    * Compute the sum of the values for all cards seen so far.\n",
    "    * Hit if sum is very negative, stay if sum is very positive. Select a threshold for hit/stay, e.g. 0 or -2.  "
   ]
  },
  {
   "cell_type": "code",
   "execution_count": 9,
   "metadata": {
    "tags": []
   },
   "outputs": [
    {
     "data": {
      "text/plain": [
       "False"
      ]
     },
     "execution_count": 9,
     "metadata": {},
     "output_type": "execute_result"
    }
   ],
   "source": [
    "class MyPlayer:\n",
    "  def __init__(self, threshold=0):\n",
    "    self.threshold = threshold\n",
    "\n",
    "  def draw_card(self, card, current_sum):\n",
    "    if card >= 2 and card <= 6:\n",
    "      value = 1\n",
    "    elif card >= 7 and card <= 9:\n",
    "      value = 0\n",
    "    else:\n",
    "      value = -1\n",
    "    new_sum = current_sum + value\n",
    "    if new_sum < self.threshold:\n",
    "      return True  # Hit\n",
    "    else:\n",
    "      return False  # Stay\n",
    "\n",
    "# Testing solution\n",
    "player = MyPlayer(threshold=-2)\n",
    "player.draw_card(5, -1)  # Returns True (Hit)\n",
    "player.draw_card(10, 2)  # Returns False (Stay)\n"
   ]
  },
  {
   "cell_type": "markdown",
   "metadata": {},
   "source": [
    "7. Create a test scenario where one player, using the above strategy, is playing with a dealer and 3 other players that follow the dealer's strategy. Each player starts with same number of chips. Play 50 rounds (or until the strategy player is out of money). Compute the strategy player's winnings. You may remove unnecessary printouts from your code (perhaps implement a verbose/quiet mode) to reduce the output."
   ]
  },
  {
   "cell_type": "code",
   "execution_count": 10,
   "metadata": {
    "tags": []
   },
   "outputs": [
    {
     "name": "stdout",
     "output_type": "stream",
     "text": [
      "Strategy player's winnings: -120\n"
     ]
    }
   ],
   "source": [
    "class DealerPlayer:\n",
    "  def draw_card(self, card, current_sum):\n",
    "    if current_sum <= 16:\n",
    "      return True  # Hit\n",
    "    else:\n",
    "      return False  # Stay\n",
    "\n",
    "class Game:\n",
    "  def __init__(self, num_players, starting_chips):\n",
    "    self.num_players = num_players\n",
    "    self.starting_chips = starting_chips\n",
    "    self.players = [MyPlayer(threshold=-2)] + [DealerPlayer()] * (num_players - 1)\n",
    "    self.chips = [starting_chips] * num_players\n",
    "    self.deck = list(range(2, 11)) * 4 + [10] * 4\n",
    "\n",
    "  def deal_card(self):\n",
    "    return random.choice(self.deck)\n",
    "\n",
    "  def play_round(self):\n",
    "    # Deal initial cards\n",
    "    hands = [[self.deal_card() for _ in range(2)] for _ in range(self.num_players)]\n",
    "\n",
    "    # Players draw cards\n",
    "    for i in range(self.num_players):\n",
    "      while self.players[i].draw_card(hands[i][-1], sum(hands[i])):\n",
    "        hands[i].append(self.deal_card())\n",
    "\n",
    "    # Calculate scores\n",
    "    scores = [sum(hand) for hand in hands]\n",
    "\n",
    "    # Determine winners and update chips\n",
    "    dealer_score = scores[1]\n",
    "    for i in range(self.num_players):\n",
    "      if i == 0:  # Strategy player\n",
    "        if scores[i] > dealer_score or dealer_score > 21:\n",
    "          self.chips[i] += 10\n",
    "        elif scores[i] == dealer_score:\n",
    "          pass\n",
    "        else:\n",
    "          self.chips[i] -= 10\n",
    "      else:  # Other players\n",
    "        if scores[i] > dealer_score or dealer_score > 21:\n",
    "          self.chips[i] += 10\n",
    "          self.chips[0] -= 10\n",
    "        elif scores[i] == dealer_score:\n",
    "          pass\n",
    "        else:\n",
    "          self.chips[i] -= 10\n",
    "          self.chips[0] += 10\n",
    "\n",
    "  def play_game(self, num_rounds):\n",
    "    for _ in range(num_rounds):\n",
    "      self.play_round()\n",
    "\n",
    "      # Check if strategy player is out of money\n",
    "      if self.chips[0] <= 0:\n",
    "        break\n",
    "\n",
    "    return self.chips[0] - self.starting_chips\n",
    "\n",
    "# Run the game\n",
    "game = Game(num_players=4, starting_chips=100)\n",
    "winnings = game.play_game(num_rounds=50)\n",
    "\n",
    "print(f\"Strategy player's winnings: {winnings}\")\n"
   ]
  },
  {
   "cell_type": "markdown",
   "metadata": {},
   "source": [
    "8. Create a loop that runs 100 games of 50 rounds, as setup in previous question, and store the strategy player's chips at the end of the game (aka \"winnings\") in a list. Histogram the winnings. What is the average winnings per round? What is the standard deviation. What is the probabilty of net winning or lossing after 50 rounds?\n"
   ]
  },
  {
   "cell_type": "code",
   "execution_count": 11,
   "metadata": {},
   "outputs": [
    {
     "name": "stdout",
     "output_type": "stream",
     "text": [
      "Average winnings per round: -2.108\n",
      "Standard deviation: 103.5184875469112\n",
      "Probability of net winning: 0.0\n",
      "Probability of net losing: 1.0\n"
     ]
    }
   ],
   "source": [
    "winnings = []\n",
    "for _ in range(100):\n",
    "    game = Game(num_players=4, starting_chips=100)\n",
    "    winnings.append(game.play_game(num_rounds=50))\n",
    "\n",
    "# Calculate average winnings per round\n",
    "average_winnings_per_round = sum(winnings) / (50 * 100)\n",
    "\n",
    "# Calculate standard deviation\n",
    "import math\n",
    "variance = sum((x - average_winnings_per_round)**2 for x in winnings) / 100\n",
    "standard_deviation = math.sqrt(variance)\n",
    "\n",
    "# Calculate probability of net winning or losing\n",
    "num_wins = len([w for w in winnings if w > 0])\n",
    "probability_of_winning = num_wins / 100\n",
    "\n",
    "# Print results\n",
    "print(f\"Average winnings per round: {average_winnings_per_round}\")\n",
    "print(f\"Standard deviation: {standard_deviation}\")\n",
    "print(f\"Probability of net winning: {probability_of_winning}\")\n",
    "print(f\"Probability of net losing: {1 - probability_of_winning}\")"
   ]
  },
  {
   "cell_type": "markdown",
   "metadata": {},
   "source": [
    "9. Repeat previous questions scanning the value of the threshold. Try at least 5 different threshold values. Can you find an optimal value?"
   ]
  },
  {
   "cell_type": "code",
   "execution_count": 12,
   "metadata": {
    "tags": []
   },
   "outputs": [
    {
     "name": "stdout",
     "output_type": "stream",
     "text": [
      "Threshold: -5, Winnings: -100\n",
      "Threshold: -4, Winnings: -110\n",
      "Threshold: -3, Winnings: -100\n",
      "Threshold: -2, Winnings: -100\n",
      "Threshold: -1, Winnings: -120\n",
      "Optimal threshold: -5\n"
     ]
    }
   ],
   "source": [
    "import math\n",
    "\n",
    "class MyPlayer:\n",
    "  def __init__(self, threshold=0):\n",
    "    self.threshold = threshold\n",
    "\n",
    "  def draw_card(self, card, current_sum):\n",
    "    if card >= 2 and card <= 6:\n",
    "      value = 1\n",
    "    elif card >= 7 and card <= 9:\n",
    "      value = 0\n",
    "    else:\n",
    "      value = -1\n",
    "    new_sum = current_sum + value\n",
    "    if new_sum < self.threshold:\n",
    "      return True  # Hit\n",
    "    else:\n",
    "      return False  # Stay\n",
    "\n",
    "# Testing solution\n",
    "player = MyPlayer(threshold=-2)\n",
    "player.draw_card(5, -1)  # Returns True (Hit)\n",
    "player.draw_card(10, 2)  # Returns False (Stay)\n",
    "\n",
    "\n",
    "\n",
    "class DealerPlayer:\n",
    "  def draw_card(self, card, current_sum):\n",
    "    if current_sum <= 16:\n",
    "      return True  # Hit\n",
    "    else:\n",
    "      return False  # Stay\n",
    "\n",
    "class Game:\n",
    "  def __init__(self, num_players, starting_chips):\n",
    "    self.num_players = num_players\n",
    "    self.starting_chips = starting_chips\n",
    "    self.players = [MyPlayer(threshold=-2)] + [DealerPlayer()] * (num_players - 1)\n",
    "    self.chips = [starting_chips] * num_players\n",
    "    self.deck = list(range(2, 11)) * 4 + [10] * 4\n",
    "\n",
    "  def deal_card(self):\n",
    "    return random.choice(self.deck)\n",
    "\n",
    "  def play_round(self):\n",
    "    # Deal initial cards\n",
    "    hands = [[self.deal_card() for _ in range(2)] for _ in range(self.num_players)]\n",
    "\n",
    "    # Players draw cards\n",
    "    for i in range(self.num_players):\n",
    "      while self.players[i].draw_card(hands[i][-1], sum(hands[i])):\n",
    "        hands[i].append(self.deal_card())\n",
    "\n",
    "    # Calculate scores\n",
    "    scores = [sum(hand) for hand in hands]\n",
    "\n",
    "    # Determine winners and update chips\n",
    "    dealer_score = scores[1]\n",
    "    for i in range(self.num_players):\n",
    "      if i == 0:  # Strategy player\n",
    "        if scores[i] > dealer_score or dealer_score > 21:\n",
    "          self.chips[i] += 10\n",
    "        elif scores[i] == dealer_score:\n",
    "          pass\n",
    "        else:\n",
    "          self.chips[i] -= 10\n",
    "      else:  # Other players\n",
    "        if scores[i] > dealer_score or dealer_score > 21:\n",
    "          self.chips[i] += 10\n",
    "          self.chips[0] -= 10\n",
    "        elif scores[i] == dealer_score:\n",
    "          pass\n",
    "        else:\n",
    "          self.chips[i] -= 10\n",
    "          self.chips[0] += 10\n",
    "\n",
    "  def play_game(self, num_rounds):\n",
    "    for _ in range(num_rounds):\n",
    "      self.play_round()\n",
    "\n",
    "      # Check if strategy player is out of money\n",
    "      if self.chips[0] <= 0:\n",
    "        break\n",
    "\n",
    "    return self.chips[0] - self.starting_chips\n",
    "\n",
    "# Run the game\n",
    "thresholds = [-5, -4, -3, -2, -1]\n",
    "winnings = []\n",
    "for threshold in thresholds:\n",
    "    game = Game(num_players=4, starting_chips=100)\n",
    "    game.players[0].threshold = threshold\n",
    "    winnings.append(game.play_game(num_rounds=50))\n",
    "\n",
    "# Print results\n",
    "for i, threshold in enumerate(thresholds):\n",
    "    print(f\"Threshold: {threshold}, Winnings: {winnings[i]}\")\n",
    "\n",
    "# Find the optimal threshold\n",
    "optimal_threshold = thresholds[winnings.index(max(winnings))]\n",
    "\n",
    "print(f\"Optimal threshold: {optimal_threshold}\")\n",
    "\n"
   ]
  },
  {
   "cell_type": "markdown",
   "metadata": {},
   "source": [
    "10. Create a new strategy based on web searches or your own ideas. Demonstrate that the new strategy will result in increased or decreased winnings. "
   ]
  },
  {
   "cell_type": "code",
   "execution_count": 13,
   "metadata": {
    "tags": []
   },
   "outputs": [
    {
     "name": "stdout",
     "output_type": "stream",
     "text": [
      "Player stands.\n",
      "Dealer wins.\n"
     ]
    }
   ],
   "source": [
    "# web searches strategy.\n",
    "#Stand when your hand is 12-16 and the dealer has 2-6: ...\n",
    "# Hit when your hand is 12-16 and the dealer has 7-Ace: ...\n",
    "# Always split Aces and 8s: ...\n",
    "# Double down on 11 versus the dealer's 2-10: ...\n",
    "# Hit or double down on Aces-6:\n",
    "\n",
    "class Player:\n",
    "  def __init__(self):\n",
    "    self.hand = []\n",
    "    self.value = 0\n",
    "\n",
    "  def draw_card(self):\n",
    "    card = random.choice([1, 2, 3, 4, 5, 6, 7, 8, 9, 10, 10, 10, 10])\n",
    "    self.hand.append(card)\n",
    "    self.value += card\n",
    "\n",
    "  def get_value(self):\n",
    "    return self.value\n",
    "\n",
    "  def get_hand(self):\n",
    "    return self.hand\n",
    "\n",
    "class Dealer:\n",
    "  def __init__(self):\n",
    "    self.hand = []\n",
    "    self.value = 0\n",
    "\n",
    "  def draw_card(self):\n",
    "    card = random.choice([1, 2, 3, 4, 5, 6, 7, 8, 9, 10, 10, 10, 10])\n",
    "    self.hand.append(card)\n",
    "    self.value += card\n",
    "\n",
    "  def get_value(self):\n",
    "    return self.value\n",
    "\n",
    "  def get_hand(self):\n",
    "    return self.hand\n",
    "\n",
    "class Game:\n",
    "  def __init__(self):\n",
    "    self.player = Player()\n",
    "    self.dealer = Dealer()\n",
    "\n",
    "  def deal(self):\n",
    "    for _ in range(2):\n",
    "      self.player.draw_card()\n",
    "      self.dealer.draw_card()\n",
    "\n",
    "  def play(self):\n",
    "    while True:\n",
    "      # Player's turn\n",
    "      if self.player.value >= 12 and self.player.value <= 16 and self.dealer.value >= 2 and self.dealer.value <= 6:\n",
    "        print(\"Player stands.\")\n",
    "        break\n",
    "      elif self.player.value >= 12 and self.player.value <= 16 and self.dealer.value >= 7 and self.dealer.value <= 10:\n",
    "        print(\"Player hits.\")\n",
    "        self.player.draw_card()\n",
    "      elif self.player.hand[0] == 1 and self.player.hand[1] == 1:\n",
    "        print(\"Player splits Aces.\")\n",
    "        # Splitting Aces\n",
    "      elif self.player.hand[0] == 8 and self.player.hand[1] == 8:\n",
    "        print(\"Player splits 8s.\")\n",
    "        # Splitting 8s\n",
    "      elif self.player.value == 11 and self.dealer.value >= 2 and self.dealer.value <= 10:\n",
    "        print(\"Player doubles down on 11.\")\n",
    "        # Doubling down on 11\n",
    "      elif self.player.value >= 5 and self.player.value <= 6:\n",
    "        print(\"Player hits or doubles down on Aces-6.\")\n",
    "        # Hitting or doubling down on Aces-6\n",
    "      else:\n",
    "        print(\"Player stands.\")\n",
    "        break\n",
    "\n",
    "      # Dealer's turn\n",
    "      if self.dealer.value < 17:\n",
    "        print(\"Dealer hits.\")\n",
    "        self.dealer.draw_card()\n",
    "      else:\n",
    "        print(\"Dealer stands.\")\n",
    "        break\n",
    "\n",
    "    # Determine the winner\n",
    "    if self.player.value > 21:\n",
    "      print(\"Dealer wins.\")\n",
    "    elif self.dealer.value > 21:\n",
    "      print(\"Player wins.\")\n",
    "    elif self.player.value > self.dealer.value:\n",
    "      print(\"Player wins.\")\n",
    "    elif self.player.value == self.dealer.value:\n",
    "      print(\"Tie.\")\n",
    "    else:\n",
    "      print(\"Dealer wins.\")\n",
    "\n",
    "# Testing the solution\n",
    "game = Game()\n",
    "game.deal()\n",
    "game.play()\n"
   ]
  }
 ],
 "metadata": {
  "kernelspec": {
   "display_name": "Python 3 (ipykernel)",
   "language": "python",
   "name": "python3"
  },
  "language_info": {
   "codemirror_mode": {
    "name": "ipython",
    "version": 3
   },
   "file_extension": ".py",
   "mimetype": "text/x-python",
   "name": "python",
   "nbconvert_exporter": "python",
   "pygments_lexer": "ipython3",
   "version": "3.11.4"
  }
 },
 "nbformat": 4,
 "nbformat_minor": 4
}
