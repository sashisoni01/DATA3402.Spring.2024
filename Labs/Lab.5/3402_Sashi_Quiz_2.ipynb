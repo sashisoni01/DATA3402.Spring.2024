{
 "cells": [
  {
   "cell_type": "code",
   "execution_count": 1,
   "id": "c502d6f7-146e-4576-8b51-b230a41f7f55",
   "metadata": {
    "tags": []
   },
   "outputs": [],
   "source": [
    "def make_deck():\n",
    "\n",
    "  suits = ['Clubs', 'Diamonds', 'Hearts', 'Spades']\n",
    "  values = ['2', '3', '4', '5', '6', '7', '8', '9', '10', 'Jack', 'Queen', 'King', 'Ace']\n",
    "  deck = []\n",
    "  for suit in suits:\n",
    "    for value in values:\n",
    "      deck.append((suit, value))\n",
    "  return deck"
   ]
  },
  {
   "cell_type": "code",
   "execution_count": 3,
   "id": "737fd4ab-cdea-455a-adf7-a3ba9e3100ef",
   "metadata": {
    "tags": []
   },
   "outputs": [
    {
     "data": {
      "text/plain": [
       "[('Clubs', '2'),\n",
       " ('Clubs', '3'),\n",
       " ('Clubs', '4'),\n",
       " ('Clubs', '5'),\n",
       " ('Clubs', '6'),\n",
       " ('Clubs', '7'),\n",
       " ('Clubs', '8'),\n",
       " ('Clubs', '9'),\n",
       " ('Clubs', '10'),\n",
       " ('Clubs', 'Jack'),\n",
       " ('Clubs', 'Queen'),\n",
       " ('Clubs', 'King'),\n",
       " ('Clubs', 'Ace'),\n",
       " ('Diamonds', '2'),\n",
       " ('Diamonds', '3'),\n",
       " ('Diamonds', '4'),\n",
       " ('Diamonds', '5'),\n",
       " ('Diamonds', '6'),\n",
       " ('Diamonds', '7'),\n",
       " ('Diamonds', '8'),\n",
       " ('Diamonds', '9'),\n",
       " ('Diamonds', '10'),\n",
       " ('Diamonds', 'Jack'),\n",
       " ('Diamonds', 'Queen'),\n",
       " ('Diamonds', 'King'),\n",
       " ('Diamonds', 'Ace'),\n",
       " ('Hearts', '2'),\n",
       " ('Hearts', '3'),\n",
       " ('Hearts', '4'),\n",
       " ('Hearts', '5'),\n",
       " ('Hearts', '6'),\n",
       " ('Hearts', '7'),\n",
       " ('Hearts', '8'),\n",
       " ('Hearts', '9'),\n",
       " ('Hearts', '10'),\n",
       " ('Hearts', 'Jack'),\n",
       " ('Hearts', 'Queen'),\n",
       " ('Hearts', 'King'),\n",
       " ('Hearts', 'Ace'),\n",
       " ('Spades', '2'),\n",
       " ('Spades', '3'),\n",
       " ('Spades', '4'),\n",
       " ('Spades', '5'),\n",
       " ('Spades', '6'),\n",
       " ('Spades', '7'),\n",
       " ('Spades', '8'),\n",
       " ('Spades', '9'),\n",
       " ('Spades', '10'),\n",
       " ('Spades', 'Jack'),\n",
       " ('Spades', 'Queen'),\n",
       " ('Spades', 'King'),\n",
       " ('Spades', 'Ace')]"
      ]
     },
     "execution_count": 3,
     "metadata": {},
     "output_type": "execute_result"
    }
   ],
   "source": [
    "cards=make_deck()\n",
    "cards"
   ]
  }
 ],
 "metadata": {
  "kernelspec": {
   "display_name": "Python 3 (ipykernel)",
   "language": "python",
   "name": "python3"
  },
  "language_info": {
   "codemirror_mode": {
    "name": "ipython",
    "version": 3
   },
   "file_extension": ".py",
   "mimetype": "text/x-python",
   "name": "python",
   "nbconvert_exporter": "python",
   "pygments_lexer": "ipython3",
   "version": "3.9.6"
  }
 },
 "nbformat": 4,
 "nbformat_minor": 5
}
